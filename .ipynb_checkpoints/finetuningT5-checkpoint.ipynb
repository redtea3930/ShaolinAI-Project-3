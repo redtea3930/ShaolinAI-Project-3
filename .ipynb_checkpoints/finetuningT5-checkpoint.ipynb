{
 "cells": [
  {
   "cell_type": "code",
   "execution_count": null,
   "id": "23e9a008-1f08-4dde-a598-984fe67d8391",
   "metadata": {},
   "outputs": [],
   "source": [
    "# Attempt at T5 finetuning with simplet5"
   ]
  },
  {
   "cell_type": "code",
   "execution_count": 9,
   "id": "d0f9407c-89e7-4741-acdd-9b99705fdc39",
   "metadata": {},
   "outputs": [],
   "source": [
    "# import\n",
    "from simplet5 import SimpleT5\n",
    "import pandas as pd\n",
    "from sklearn.model_selection import train_test_split"
   ]
  },
  {
   "cell_type": "code",
   "execution_count": 5,
   "id": "b378cab8-3579-48f0-9944-9b38a2a40f8f",
   "metadata": {},
   "outputs": [],
   "source": [
    "# import dataset from csv\n",
    "congress_115_text_df = pd.read_csv('congress_115_text.csv')\n",
    "congress_115_text_df.head()"
   ]
  },
  {
   "cell_type": "code",
   "execution_count": 7,
   "id": "0f4d8d06-abab-4276-84c6-4f52b9e285ef",
   "metadata": {},
   "outputs": [
    {
     "data": {
      "text/html": [
       "<div>\n",
       "<style scoped>\n",
       "    .dataframe tbody tr th:only-of-type {\n",
       "        vertical-align: middle;\n",
       "    }\n",
       "\n",
       "    .dataframe tbody tr th {\n",
       "        vertical-align: top;\n",
       "    }\n",
       "\n",
       "    .dataframe thead th {\n",
       "        text-align: right;\n",
       "    }\n",
       "</style>\n",
       "<table border=\"1\" class=\"dataframe\">\n",
       "  <thead>\n",
       "    <tr style=\"text-align: right;\">\n",
       "      <th></th>\n",
       "      <th>source_text</th>\n",
       "      <th>target_text</th>\n",
       "    </tr>\n",
       "  </thead>\n",
       "  <tbody>\n",
       "    <tr>\n",
       "      <th>0</th>\n",
       "      <td>&lt;html&gt;&lt;body&gt;&lt;pre&gt;\\n[Congressional Bills 115th ...</td>\n",
       "      <td>(This measure has not been amended since it wa...</td>\n",
       "    </tr>\n",
       "    <tr>\n",
       "      <th>1</th>\n",
       "      <td>&lt;html&gt;&lt;body&gt;&lt;pre&gt;\\n[Congressional Bills 115th ...</td>\n",
       "      <td>(This measure has not been amended since it wa...</td>\n",
       "    </tr>\n",
       "    <tr>\n",
       "      <th>2</th>\n",
       "      <td>&lt;html&gt;&lt;body&gt;&lt;pre&gt;\\n[Congressional Bills 115th ...</td>\n",
       "      <td>Financial CHOICE Act of 2017\\n\\n (Sec. 2) This...</td>\n",
       "    </tr>\n",
       "    <tr>\n",
       "      <th>3</th>\n",
       "      <td>&lt;html&gt;&lt;body&gt;&lt;pre&gt;\\n[Congressional Bills 115th ...</td>\n",
       "      <td>Raise the Wage Act\\n\\nThis bill amends the Fai...</td>\n",
       "    </tr>\n",
       "    <tr>\n",
       "      <th>4</th>\n",
       "      <td>&lt;html&gt;&lt;body&gt;&lt;pre&gt;\\n[Congressional Bills 115th ...</td>\n",
       "      <td>Smithsonian Women's History Museum Act\\n\\nThis...</td>\n",
       "    </tr>\n",
       "  </tbody>\n",
       "</table>\n",
       "</div>"
      ],
      "text/plain": [
       "                                         source_text  \\\n",
       "0  <html><body><pre>\\n[Congressional Bills 115th ...   \n",
       "1  <html><body><pre>\\n[Congressional Bills 115th ...   \n",
       "2  <html><body><pre>\\n[Congressional Bills 115th ...   \n",
       "3  <html><body><pre>\\n[Congressional Bills 115th ...   \n",
       "4  <html><body><pre>\\n[Congressional Bills 115th ...   \n",
       "\n",
       "                                         target_text  \n",
       "0  (This measure has not been amended since it wa...  \n",
       "1  (This measure has not been amended since it wa...  \n",
       "2  Financial CHOICE Act of 2017\\n\\n (Sec. 2) This...  \n",
       "3  Raise the Wage Act\\n\\nThis bill amends the Fai...  \n",
       "4  Smithsonian Women's History Museum Act\\n\\nThis...  "
      ]
     },
     "execution_count": 7,
     "metadata": {},
     "output_type": "execute_result"
    }
   ],
   "source": [
    "# format dataset for simpleT5, ie bills stored as \"source_text\" beginning with \"summarize: \" \n",
    "# and summarizations stored as \"target_text\"\n",
    "text_to_summarize_df = congress_115_text_df.rename(columns={\"Summary\":\"target_text\", \"Text\":\"source_text\"})\n",
    "text_to_summarize_df = text_to_summarize_df[['source_text', 'target_text']]\n",
    "text_to_summarize_df.head()"
   ]
  },
  {
   "cell_type": "code",
   "execution_count": 8,
   "id": "2a59ce76-2fed-4b6d-82d7-5be2861ba654",
   "metadata": {},
   "outputs": [
    {
     "data": {
      "text/html": [
       "<div>\n",
       "<style scoped>\n",
       "    .dataframe tbody tr th:only-of-type {\n",
       "        vertical-align: middle;\n",
       "    }\n",
       "\n",
       "    .dataframe tbody tr th {\n",
       "        vertical-align: top;\n",
       "    }\n",
       "\n",
       "    .dataframe thead th {\n",
       "        text-align: right;\n",
       "    }\n",
       "</style>\n",
       "<table border=\"1\" class=\"dataframe\">\n",
       "  <thead>\n",
       "    <tr style=\"text-align: right;\">\n",
       "      <th></th>\n",
       "      <th>source_text</th>\n",
       "      <th>target_text</th>\n",
       "    </tr>\n",
       "  </thead>\n",
       "  <tbody>\n",
       "    <tr>\n",
       "      <th>0</th>\n",
       "      <td>summarize: &lt;html&gt;&lt;body&gt;&lt;pre&gt;\\n[Congressional B...</td>\n",
       "      <td>(This measure has not been amended since it wa...</td>\n",
       "    </tr>\n",
       "    <tr>\n",
       "      <th>1</th>\n",
       "      <td>summarize: &lt;html&gt;&lt;body&gt;&lt;pre&gt;\\n[Congressional B...</td>\n",
       "      <td>(This measure has not been amended since it wa...</td>\n",
       "    </tr>\n",
       "    <tr>\n",
       "      <th>2</th>\n",
       "      <td>summarize: &lt;html&gt;&lt;body&gt;&lt;pre&gt;\\n[Congressional B...</td>\n",
       "      <td>Financial CHOICE Act of 2017\\n\\n (Sec. 2) This...</td>\n",
       "    </tr>\n",
       "    <tr>\n",
       "      <th>3</th>\n",
       "      <td>summarize: &lt;html&gt;&lt;body&gt;&lt;pre&gt;\\n[Congressional B...</td>\n",
       "      <td>Raise the Wage Act\\n\\nThis bill amends the Fai...</td>\n",
       "    </tr>\n",
       "    <tr>\n",
       "      <th>4</th>\n",
       "      <td>summarize: &lt;html&gt;&lt;body&gt;&lt;pre&gt;\\n[Congressional B...</td>\n",
       "      <td>Smithsonian Women's History Museum Act\\n\\nThis...</td>\n",
       "    </tr>\n",
       "  </tbody>\n",
       "</table>\n",
       "</div>"
      ],
      "text/plain": [
       "                                         source_text  \\\n",
       "0  summarize: <html><body><pre>\\n[Congressional B...   \n",
       "1  summarize: <html><body><pre>\\n[Congressional B...   \n",
       "2  summarize: <html><body><pre>\\n[Congressional B...   \n",
       "3  summarize: <html><body><pre>\\n[Congressional B...   \n",
       "4  summarize: <html><body><pre>\\n[Congressional B...   \n",
       "\n",
       "                                         target_text  \n",
       "0  (This measure has not been amended since it wa...  \n",
       "1  (This measure has not been amended since it wa...  \n",
       "2  Financial CHOICE Act of 2017\\n\\n (Sec. 2) This...  \n",
       "3  Raise the Wage Act\\n\\nThis bill amends the Fai...  \n",
       "4  Smithsonian Women's History Museum Act\\n\\nThis...  "
      ]
     },
     "execution_count": 8,
     "metadata": {},
     "output_type": "execute_result"
    }
   ],
   "source": [
    "# T5 model expects a task related prefix: since it is a summarization task, we will add a prefix \"summarize: \"\n",
    "text_to_summarize_df['source_text'] = \"summarize: \" + text_to_summarize_df['source_text']\n",
    "text_to_summarize_df.head()"
   ]
  },
  {
   "cell_type": "code",
   "execution_count": 11,
   "id": "d1129595-9ec1-477b-aa22-285489df7a7d",
   "metadata": {},
   "outputs": [
    {
     "data": {
      "text/plain": [
       "((1804, 2), (451, 2))"
      ]
     },
     "execution_count": 11,
     "metadata": {},
     "output_type": "execute_result"
    }
   ],
   "source": [
    "train_df, test_df = train_test_split(text_to_summarize_df, test_size=0.2)\n",
    "train_df.shape, test_df.shape"
   ]
  },
  {
   "cell_type": "code",
   "execution_count": 12,
   "id": "48939218-c4dd-4686-af96-639302e27304",
   "metadata": {},
   "outputs": [
    {
     "ename": "NameError",
     "evalue": "name 'eval_df' is not defined",
     "output_type": "error",
     "traceback": [
      "\u001b[0;31m---------------------------------------------------------------------------\u001b[0m",
      "\u001b[0;31mNameError\u001b[0m                                 Traceback (most recent call last)",
      "\u001b[0;32m/var/folders/5k/k2z13ft93tl12wvdks82c4pc0000gn/T/ipykernel_87650/2761891427.py\u001b[0m in \u001b[0;36m<module>\u001b[0;34m\u001b[0m\n\u001b[1;32m      7\u001b[0m \u001b[0;31m# train\u001b[0m\u001b[0;34m\u001b[0m\u001b[0;34m\u001b[0m\u001b[0;34m\u001b[0m\u001b[0m\n\u001b[1;32m      8\u001b[0m model.train(train_df=train_df, # pandas dataframe with 2 columns: source_text & target_text\n\u001b[0;32m----> 9\u001b[0;31m             \u001b[0meval_df\u001b[0m\u001b[0;34m=\u001b[0m\u001b[0meval_df\u001b[0m\u001b[0;34m,\u001b[0m \u001b[0;31m# pandas dataframe with 2 columns: source_text & target_text\u001b[0m\u001b[0;34m\u001b[0m\u001b[0;34m\u001b[0m\u001b[0m\n\u001b[0m\u001b[1;32m     10\u001b[0m             \u001b[0msource_max_token_len\u001b[0m \u001b[0;34m=\u001b[0m \u001b[0;36m512\u001b[0m\u001b[0;34m,\u001b[0m\u001b[0;34m\u001b[0m\u001b[0;34m\u001b[0m\u001b[0m\n\u001b[1;32m     11\u001b[0m             \u001b[0mtarget_max_token_len\u001b[0m \u001b[0;34m=\u001b[0m \u001b[0;36m128\u001b[0m\u001b[0;34m,\u001b[0m\u001b[0;34m\u001b[0m\u001b[0;34m\u001b[0m\u001b[0m\n",
      "\u001b[0;31mNameError\u001b[0m: name 'eval_df' is not defined"
     ]
    }
   ],
   "source": [
    "# instantiate\n",
    "model = SimpleT5()\n",
    "\n",
    "# load (supports t5, mt5, byT5 models)\n",
    "model.from_pretrained(\"t5\",\"t5-base\")\n",
    "\n",
    "# train\n",
    "model.train(train_df=train_df, # pandas dataframe with 2 columns: source_text & target_text\n",
    "            eval_df=eval_df, # pandas dataframe with 2 columns: source_text & target_text\n",
    "            source_max_token_len = 512, \n",
    "            target_max_token_len = 128,\n",
    "            batch_size = 8,\n",
    "            max_epochs = 5,\n",
    "            use_gpu = True,\n",
    "            outputdir = \"outputs\",\n",
    "            early_stopping_patience_epochs = 0,\n",
    "            precision = 32\n",
    "            )\n",
    "\n",
    "# load trained T5 model\n",
    "model.load_model(\"t5\",\"path/to/trained/model/directory\", use_gpu=False)\n",
    "\n",
    "# predict\n",
    "model.predict(\"input text for prediction\")"
   ]
  },
  {
   "cell_type": "code",
   "execution_count": 14,
   "id": "c01a5311-9111-408c-a1cf-a8fb81028321",
   "metadata": {},
   "outputs": [
    {
     "name": "stderr",
     "output_type": "stream",
     "text": [
      "GPU available: False, used: False\n",
      "TPU available: False, using: 0 TPU cores\n",
      "IPU available: False, using: 0 IPUs\n",
      "Missing logger folder: /Users/jim/ShaolinAI_Bootcamp/ShaolinAI-Project-3/lightning_logs\n",
      "\n",
      "  | Name  | Type                       | Params\n",
      "-----------------------------------------------------\n",
      "0 | model | T5ForConditionalGeneration | 222 M \n",
      "-----------------------------------------------------\n",
      "222 M     Trainable params\n",
      "0         Non-trainable params\n",
      "222 M     Total params\n",
      "891.614   Total estimated model params size (MB)\n"
     ]
    },
    {
     "data": {
      "application/vnd.jupyter.widget-view+json": {
       "model_id": "",
       "version_major": 2,
       "version_minor": 0
      },
      "text/plain": [
       "Validation sanity check: 0it [00:00, ?it/s]"
      ]
     },
     "metadata": {},
     "output_type": "display_data"
    },
    {
     "name": "stderr",
     "output_type": "stream",
     "text": [
      "/Users/jim/anaconda3/envs/mlenv/lib/python3.7/site-packages/pytorch_lightning/trainer/data_loading.py:133: UserWarning: The dataloader, val_dataloader 0, does not have many workers which may be a bottleneck. Consider increasing the value of the `num_workers` argument` (try 4 which is the number of cpus on this machine) in the `DataLoader` init to improve performance.\n",
      "  f\"The dataloader, {name}, does not have many workers which may be a bottleneck.\"\n",
      "[W ParallelNative.cpp:229] Warning: Cannot set number of intraop threads after parallel work has started or after set_num_threads call when using native parallel backend (function set_num_threads)\n",
      "[W ParallelNative.cpp:229] Warning: Cannot set number of intraop threads after parallel work has started or after set_num_threads call when using native parallel backend (function set_num_threads)\n"
     ]
    },
    {
     "name": "stdout",
     "output_type": "stream",
     "text": [
      "huggingface/tokenizers: The current process just got forked, after parallelism has already been used. Disabling parallelism to avoid deadlocks...\n",
      "To disable this warning, you can either:\n",
      "\t- Avoid using `tokenizers` before the fork if possible\n",
      "\t- Explicitly set the environment variable TOKENIZERS_PARALLELISM=(true | false)\n",
      "huggingface/tokenizers: The current process just got forked, after parallelism has already been used. Disabling parallelism to avoid deadlocks...\n",
      "To disable this warning, you can either:\n",
      "\t- Avoid using `tokenizers` before the fork if possible\n",
      "\t- Explicitly set the environment variable TOKENIZERS_PARALLELISM=(true | false)\n"
     ]
    },
    {
     "name": "stderr",
     "output_type": "stream",
     "text": [
      "Global seed set to 42\n",
      "/Users/jim/anaconda3/envs/mlenv/lib/python3.7/site-packages/pytorch_lightning/trainer/data_loading.py:133: UserWarning: The dataloader, train_dataloader, does not have many workers which may be a bottleneck. Consider increasing the value of the `num_workers` argument` (try 4 which is the number of cpus on this machine) in the `DataLoader` init to improve performance.\n",
      "  f\"The dataloader, {name}, does not have many workers which may be a bottleneck.\"\n"
     ]
    },
    {
     "data": {
      "application/vnd.jupyter.widget-view+json": {
       "model_id": "418c04ec9b51455bb0e59f77f9660785",
       "version_major": 2,
       "version_minor": 0
      },
      "text/plain": [
       "Training: 0it [00:00, ?it/s]"
      ]
     },
     "metadata": {},
     "output_type": "display_data"
    },
    {
     "name": "stderr",
     "output_type": "stream",
     "text": [
      "[W ParallelNative.cpp:229] Warning: Cannot set number of intraop threads after parallel work has started or after set_num_threads call when using native parallel backend (function set_num_threads)\n",
      "[W ParallelNative.cpp:229] Warning: Cannot set number of intraop threads after parallel work has started or after set_num_threads call when using native parallel backend (function set_num_threads)\n",
      "2023-11-21 16:06:50.266395: I tensorflow/core/platform/cpu_feature_guard.cc:193] This TensorFlow binary is optimized with oneAPI Deep Neural Network Library (oneDNN) to use the following CPU instructions in performance-critical operations:  AVX2 FMA\n",
      "To enable them in other operations, rebuild TensorFlow with the appropriate compiler flags.\n",
      "/Users/jim/anaconda3/envs/mlenv/lib/python3.7/site-packages/pytorch_lightning/trainer/trainer.py:688: UserWarning: Detected KeyboardInterrupt, attempting graceful shutdown...\n",
      "  rank_zero_warn(\"Detected KeyboardInterrupt, attempting graceful shutdown...\")\n"
     ]
    }
   ],
   "source": [
    "model = SimpleT5()\n",
    "model.from_pretrained(model_type=\"t5\", model_name=\"t5-base\")\n",
    "model.train(train_df=train_df[:5000],\n",
    "            eval_df=test_df[:100], \n",
    "            source_max_token_len=128, \n",
    "            target_max_token_len=50, \n",
    "            batch_size=8, max_epochs=3, use_gpu=False)\n",
    "     "
   ]
  },
  {
   "cell_type": "code",
   "execution_count": null,
   "id": "29317f0f-60fa-4a30-ba6b-d700076b11d3",
   "metadata": {},
   "outputs": [],
   "source": []
  }
 ],
 "metadata": {
  "kernelspec": {
   "display_name": "Python 3 (ipykernel)",
   "language": "python",
   "name": "python3"
  },
  "language_info": {
   "codemirror_mode": {
    "name": "ipython",
    "version": 3
   },
   "file_extension": ".py",
   "mimetype": "text/x-python",
   "name": "python",
   "nbconvert_exporter": "python",
   "pygments_lexer": "ipython3",
   "version": "3.7.13"
  }
 },
 "nbformat": 4,
 "nbformat_minor": 5
}
