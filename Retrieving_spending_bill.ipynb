{
 "cells": [
  {
   "cell_type": "code",
   "execution_count": 1,
   "id": "5b6211a3-0c45-4c41-8c4b-b99714ee7c02",
   "metadata": {},
   "outputs": [],
   "source": [
    "import json\n",
    "import pandas as pd\n",
    "import requests\n",
    "import time\n",
    "from bs4 import BeautifulSoup\n",
    "\n",
    "import tqdm  # Import tqdm for the progress bar\n",
    "\n",
    "\n",
    "# api key for congress.gov\n",
    "from api_key import congress_api_key"
   ]
  },
  {
   "cell_type": "code",
   "execution_count": null,
   "id": "66bbd578-cc99-4d14-91aa-6505f7baa685",
   "metadata": {},
   "outputs": [],
   "source": [
    "# spending bill is HR 6863 of current congress 118th\n",
    "# store as .txt"
   ]
  },
  {
   "cell_type": "code",
   "execution_count": 7,
   "id": "533d4e0e-7706-48cb-8256-deac839ae5ad",
   "metadata": {},
   "outputs": [
    {
     "data": {
      "text/plain": [
       "'https://www.congress.gov/118/bills/hr6363/BILLS-118hr6363enr.htm'"
      ]
     },
     "execution_count": 7,
     "metadata": {},
     "output_type": "execute_result"
    }
   ],
   "source": [
    "# api call on congress.gov retrieving url of text\n",
    "query_url = f\"https://api.congress.gov/v3/bill/118/hr/6363/text?api_key={congress_api_key}\"\n",
    "response = requests.get(query_url)\n",
    "json_data = response.json()\n",
    "text_url = json_data['textVersions'][0]['formats'][0]['url']\n",
    "text_url"
   ]
  },
  {
   "cell_type": "code",
   "execution_count": 8,
   "id": "fa97bc69-c44e-430f-a5f9-c1f053e5ae12",
   "metadata": {},
   "outputs": [
    {
     "data": {
      "text/plain": [
       "\"<html><body><pre>\\n[Congressional Bills 118th Congress]\\n[From the U.S. Government Publishing Office]\\n[H.R. 6363 Enrolled Bill (ENR)]\\n\\n        H.R.6363\\n\\n                     One Hundred Eighteenth Congress\\n\\n                                 of the\\n\\n                        United States of America\\n\\n\\n                          AT THE FIRST SESSION\\n\\n          Begun and held at the City of Washington on Tuesday,\\n         the third day of January, two thousand and twenty-three\\n\\n\\n                                 An Act\\n\\n\\n \\n Making further continuing appropriations for fiscal year 2024, and for \\n                             other purposes.\\n\\n    Be it enacted by the Senate and House of Representatives of the \\nUnited States of America in Congress assembled,\\nSECTION 1. SHORT TITLE.\\n    This Act may be cited as the ``Further Continuing Appropriations \\nand Other Extensions Act, 2024''.\\nSEC. 2. TABLE OF CONTENTS.\\n    The table of contents of this Act is as follows:\\nSec. 1. Short title.\\nSec. 2. Table of Contents.\\nSec. 3. References.\\n\\n         DIVISION A--FURTHER CONTINUING APPROPRIATIONS ACT, 2024\\n\\n                        DIVISION B--OTHER MATTERS\\n\\nTitle I--Extensions and Other Matters\\nTitle II--Health and Human Services\\nTitle III--Miscellaneous Extensions\\nTitle IV--Budgetary Effects\\nSEC. 3. REFERENCES.\\n    Except as expressly provided otherwise, any reference to ``this \\nAct'' contained in any division of this Act shall be treated as \\nreferring only to the provisions of that division.\\n\\n        DIVISION A--FURTHER CONTINUING APPROPRIATIONS ACT, 2024\\n\\n    Sec. 101.  Division A of the Continuing Appropriations Act, 2024 \\nand Other Extensions Act (Public Law 118-15) is amended--\\n        (1) by striking the date specified in section 106(3) and \\n    inserting ``February 2, 2024, except as provided in paragraph \\n    (4)'';\\n        (2) by inserting after paragraph (3) of section 106 the \\n    following:\\n        ``(4) In the case of appropriations and funds made available \\n    and authority granted pursuant to sections 101(1), 101(4), 101(10), \\n    101(12), 134, and 137, January 19, 2024.'';\\n        (3) in section 101(1) by inserting after ``except section \\n    729,'' the following: ``and except that the language under the \\n    heading `Rural Utilities Service--Rural Water and Waste Disposal \\n    Program Account' in title III shall be applied by inserting `direct \\n    loans and,' before `loan guarantees' at the beginning of the first \\n    sentence of the second paragraph,'';\\n        (4) in section 101(10), by inserting before the period ``, \\n    except section 123 as well as the provisions carrying the same \\n    restriction in prior Acts'';\\n        (5) in section 123, by striking ``17 days'' and inserting ``94 \\n    days'' and by striking ``17-day'' and inserting ``94-day'';\\n        (6) in section 124, by striking ``$621,270,000'' and inserting \\n    ``$663,070,000'';\\n        (7) in section 125, by striking ``During the period covered by \\n    this Act'' and inserting ``Through the date specified in section \\n    106(3) of this Act''; and\\n        (8) by adding after section 137 the following new sections:\\n    ``Sec. 138.  Section 2(f)(2) of the Undetectable Firearms Act of \\n1988 (18 U.S.C. 922 note) shall be applied through the date specified \\nin section 106(3) of this Act by substituting `36' for `35'.\\n    ``Sec. 139.  Through the date specified in section 106(3) of this \\nAct, amounts appropriated in section 124 of the Continuing \\nAppropriations Act, 2023 (division A of Public Law 117-180) may be \\ncharged for any proper expense pursuant to section 1553(b)(1) of title \\n31, United States Code, notwithstanding the limitation in section \\n1553(b)(2) of such title.\\n    ``Sec. 140.  Notwithstanding sections 102 and 104, amounts made \\navailable by section 101 to the Department of Defense for \\n`Procurement--Shipbuilding and Conversion, Navy' may be apportioned up \\nto the rate for operations necessary for `Columbia Class Submarine \\n(AP)' in an amount not to exceed $3,338,413,000.\\n    ``Sec. 141. (a) Notwithstanding section 101, section 747 of title \\nVII of division E of Public Law 117-328 shall be applied through the \\ndate specified in section 106(3) of this Act by--\\n    ``(1) substituting `2025' for `2024';\\n    ``(2) substituting `2024' for `2023' each place it appears;\\n    ``(3) substituting `2023' for `2022' each place it appears; and\\n    ``(4) substituting `section 747 of division E of Public Law 117-\\n328, as in effect on September 30, 2023' for `section 747 of division E \\nof Public Law 117-103' each place it appears.\\n    ``(b) Subsection (a) shall not take effect until the first day of \\nthe first applicable pay period beginning on or after January 1, 2024.\\n    ``Sec. 142.  Section 302 of title III of Public Law 108-494 shall \\nbe applied by substituting the date specified in section 106(3) of this \\nAct for `December 31, 2023' each place it appears.\\n    ``Sec. 143.  Amounts made available by section 101 to the \\nDepartment of Homeland Security under the heading `United States Secret \\nService--Operations and Support' may be apportioned up to the rate for \\noperations necessary to carry out activities related to National \\nSpecial Security Events and the 2024 Presidential Campaign.\\n    ``Sec. 144.  Section 1901(e) of the Homeland Security Act of 2002 \\n(6 U.S.C. 591(e)) shall be applied by substituting the date that is 1 \\nday after the date specified in section 106(3) of this Act for `the \\ndate that is 5 years after the date of the enactment of the Countering \\nWeapons of Mass Destruction Act of 2018'.\\n    ``Sec. 145. (a) Amounts made available by section 101 for \\n`Department of Education--Student Aid Administration' may be \\napportioned up to the rate for operations necessary to ensure the \\ncontinuation of student loan servicing activities, including supporting \\nborrowers reentering repayment.\\n    ``(b) The limitation in section 302 of division H of Public Law \\n117-328 regarding transfers increasing any appropriation shall be \\napplied to transfers to appropriations under the heading `Department of \\nEducation--Student Aid Administration' through the date specified in \\nsection 106(3) of this Act by substituting `10 percent' for `3 percent' \\nfor the purposes of the continuation of basic operations, including \\nstudent loan servicing, business process operations, digital customer \\ncare, common origination and disbursement, cybersecurity activities, \\nand information technology systems.\\n    ``Sec. 146.  Notwithstanding any other provision of this Act, there \\nis hereby appropriated for fiscal year 2024, out of any money in the \\nTreasury not otherwise appropriated, for payment to Katherine Anne \\nFeinstein, beneficiary of Dianne Feinstein, late a Senator from the \\nState of California, $174,000.\\n    ``This division may be cited as the `Continuing Appropriations Act, \\n2024'.''.\\n     This division may be cited as the ``Further Continuing \\nAppropriations Act, 2024''.\\n\\n                       DIVISION B--OTHER MATTERS\\n                 TITLE I--EXTENSIONS AND OTHER MATTERS\\n\\n    SEC. 101. EXTENSION OF CERTAIN PROVISIONS OF THE COMPACTS OF FREE \\n      ASSOCIATION WITH THE FEDERATED STATES OF MICRONESIA AND THE \\n      REPUBLIC OF THE MARSHALL ISLANDS.\\n     Section 2101 of the Continuing Appropriations Act, 2024 and Other \\nExtensions Act (Public Law 118-15; 137 Stat. 81) is amended--\\n        (1) in the section heading, by striking ``compact of free \\n    association with the federated states of micronesia'' and inserting \\n    ``compacts of free association with the federated states of \\n    micronesia and the republic of the marshall islands''; and\\n        (2) in subsection (a)(1)--\\n            (A) by striking ``November 17, 2023'' and inserting \\n        ``February 2, 2024'';\\n            (B) by inserting ``, section 103(f)(2) of the Compact of \\n        Free Association Amendments Act of 2003 (48 U.S.C. \\n        1921b(f)(2)), and sections 211, 213, and 216 of the Compact of \\n        Free Association between the Government of the United States of \\n        America and the Government of the Republic of the Marshall \\n        Islands set forth in section 201(b) of that Act (48 U.S.C. 1921 \\n        note; Public Law 108-188)'' before ``shall,'';\\n            (C) by inserting ``or the Republic of the Marshall Islands, \\n        as applicable'' before ``, continue''; and\\n            (D) by striking ``of that Compact'' and inserting ``of the \\n        applicable Compact''.\\n    SEC. 102. EXTENSION OF AGRICULTURAL PROGRAMS.\\n    (a) Extension.--Except as otherwise provided in this section and \\nthe amendments made by this section, notwithstanding any other \\nprovision of law, the authorities (including any limitations on the \\nauthorities) provided by each provision of the Agriculture Improvement \\nAct of 2018 (Public Law 115-334; 132 Stat. 4490) and each provision of \\nlaw amended by that Act (and for mandatory programs at such funding \\nlevels), as in effect on September 30, 2023, shall continue, and the \\nauthorities shall be carried out, until the later of--\\n        (1) September 30, 2024; or\\n        (2) the date specified in the provision of that Act or the \\n    provision of law amended by that Act.\\n    (b) Discretionary Programs.--Programs carried out using the \\nauthorities described in subsection (a) that are funded by \\ndiscretionary appropriations (as defined in section 250(c) of the \\nBalanced Budget and Emergency Deficit Control Act of 1985 (2 U.S.C. \\n900(c))) shall be subject to the availability of appropriations.\\n    (c) Commodity Programs.--\\n        (1) In general.--The provisions of law applicable to a covered \\n    commodity (as defined in section 1111 of the Agricultural Act of \\n    2014 (7 U.S.C. 9011)), a loan commodity (as defined in section 1201 \\n    of that Act (7 U.S.C. 9031)), sugarcane, or sugar beets for the \\n    2023 crop year pursuant to title I of that Act (7 U.S.C. 9011 et \\n    seq.) and each amendment made by subtitle C of title I of the \\n    Agriculture Improvement Act of 2018 (Public Law 115-334; 132 Stat. \\n    4511) shall be applicable to the 2024 crop year for that covered \\n    commodity, loan commodity, sugarcane, or sugar beets.\\n        (2) Dairy.--\\n            (A) Base production history adjustment for participating \\n        dairy operations with production of less than 5,000,000 \\n        pounds.--Section 1405(a) of the Agricultural Act of 2014 (7 \\n        U.S.C. 9055(a)) is amended--\\n                (i) in paragraph (1), by inserting ``paragraph (4) \\n            and'' before ``subsection (b)''; and\\n                (ii) by adding at the end the following:\\n        ``(4) Base production history adjustment for participating \\n    dairy operations with production of less than 5,000,000 pounds.--\\n            ``(A) In general.--If the amount determined under paragraph \\n        (1) is less than 5,000,000 pounds, the production history of \\n        the dairy operation for dairy margin coverage shall be equal \\n        to--\\n                ``(i) the amount determined under paragraph (1); plus\\n                ``(ii) 75 percent of the amount described in \\n            subparagraph (B).\\n            ``(B) Amount.--The amount referred to in subparagraph \\n        (A)(ii) is, with respect to a dairy operation, the amount equal \\n        to--\\n                ``(i) the production volume of such dairy operation for \\n            the 2019 milk marketing year; minus\\n                ``(ii) the amount determined under paragraph (1).''.\\n            (B) Dairy margin coverage.--\\n                (i) Duration.--Section 1409 of the Agricultural Act of \\n            2014 (7 U.S.C. 9059) is amended by striking ``2023'' and \\n            inserting ``2024''.\\n                (ii) Availability of premium discount.--With respect to \\n            coverage for calendar year 2024, section 1407(g) of the \\n            Agricultural Act of 2014 (7 U.S.C. 9057(g)) shall only \\n            apply to a participating dairy operation with respect to \\n            which the premium was reduced in accordance with that \\n            section for calendar year 2023.\\n            (C) Dairy forward pricing program.--Section 1502(e)(2) of \\n        the Food, Conservation, and Energy Act of 2008 (7 U.S.C. \\n        8772(e)(2)) is amended by striking ``2026'' and inserting \\n        ``2027''.\\n        (3) Extension of payment amount.--Section 1116(d) of the \\n    Agricultural Act of 2014 (7 U.S.C. 9016(d)) is amended, in the \\n    matter preceding paragraph (1), by striking ``2018'' and inserting \\n    ``2024''.\\n        (4) Suspension of permanent price support authorities.--The \\n    provisions of law specified in--\\n            (A) subsections (a) and (b) of section 1602 of the \\n        Agricultural Act of 2014 (7 U.S.C. 9092)--\\n                (i) shall not be applicable to the 2024 crops of \\n            covered commodities (as defined in section 1111 of that Act \\n            (7 U.S.C. 9011)), cotton, and sugar; and\\n                (ii) shall not be applicable to milk through December \\n            31, 2024; and\\n            (B) section 1602(c) of that Act (7 U.S.C. 9092(c)) shall \\n        not be applicable to the crops of wheat planted for harvest in \\n        calendar year 2024.\\n    (d) Other Programs.--\\n        (1) Conservation.--\\n            (A) Grassroots source water protection program.--Section \\n        1240O(b)(3) of the Food Security Act of 1985 (16 U.S.C. 3839bb-\\n        2(b)(3)) is amended--\\n                (i) by striking the period at the end and inserting ``; \\n            and'';\\n                (ii) by striking ``use $5,000,000'' and inserting the \\n            following: ``use--\\n            ``(A) $5,000,000''; and\\n                (iii) by adding at the end the following:\\n            ``(B) $1,000,000 beginning in fiscal year 2024, to remain \\n        available until expended.''.\\n            (B) Voluntary public access and habitat incentive \\n        program.--Section 1240R(f)(1) of the Food Security Act of 1985 \\n        (16 U.S.C. 3839bb-5(f)(1)) is amended--\\n                (i) by striking ``and'' after ``2018,''; and\\n                (ii) by inserting ``, and $10,000,000 for fiscal year \\n            2024'' before the period at the end.\\n            (C) Feral swine eradication and control pilot program.--\\n        Section 2408(g)(1) of the Agriculture Improvement Act of 2018 \\n        (7 U.S.C. 8351 note; Public Law 115-334) is amended by \\n        inserting ``and $15,000,000 for fiscal year 2024'' before the \\n        period at the end.\\n        (2) Trade.--Section 302(h)(2) of the Bill Emerson Humanitarian \\n    Trust Act (7 U.S.C. 1736f-1(h)(2)) is amended by striking ``2023'' \\n    and inserting ``2024''.\\n        (3) Nutrition.--Section 203D(d)(5) of the Emergency Food \\n    Assistance Act of 1983 (7 U.S.C. 7507(d)(5)) is amended by striking \\n    ``2023'' and inserting ``2024''.\\n        (4) Rural economic development program.--Section 313B(e)(2) of \\n    the Rural Electrification Act of 1936 (7 U.S.C. 940c-2(e)(2)) is \\n    amended by striking ``and 2023'' and inserting ``through 2024''.\\n        (5) Research.--\\n            (A) Scholarships for students.--Section 1446 of the \\n        National Agricultural Research, Extension, and Teaching Policy \\n        Act of 1977 (7 U.S.C. 3222a) is amended--\\n                (i) in subsection (a)(3), by striking ``three'' and \\n            inserting ``4''; and\\n                (ii) in subsection (b)(1)--\\n\\n                    (I) by striking ``Of'' and inserting the following:\\n\\n            ``(A) Funding.--Of''; and\\n\\n                    (II) by adding at the end the following:\\n\\n            ``(B) Additional funding.--Not later than 30 days after the \\n        date of enactment of this subparagraph, of the funds of the \\n        Commodity Credit Corporation, the Secretary shall make \\n        available to carry out this section $10,000,000, to remain \\n        available until expended.''.\\n            (B) Urban, indoor, and other emerging agricultural \\n        production research, education, and extension initiative.--\\n        Section 1672E(d)(1) of the Food, Agriculture, Conservation, and \\n        Trade Act of 1990 (7 U.S.C. 5925g(d)(1)) is amended--\\n                (i) by striking the period at the end and inserting ``; \\n            and'';\\n                (ii) by striking ``section $10,000,000'' and inserting \\n            the following: ``section--\\n            ``(A) $10,000,000''; and\\n                (iii) by adding at the end the following:\\n            ``(B) $2,000,000 for fiscal year 2024, to remain available \\n        until expended.''.\\n            (C) Foundation for food and agriculture research.--Section \\n        7601(g)(1)(A) of the Agricultural Act of 2014 (7 U.S.C. \\n        5939(g)(1)(A)) is amended by adding at the end the following:\\n                ``(iii) Additional funding.--Not later than 30 days \\n            after the date of enactment of this clause, of the funds of \\n            the Commodity Credit Corporation, the Secretary shall \\n            transfer to the Foundation to carry out this section \\n            $37,000,000, to remain available until expended.''.\\n            (D) Grazinglands research laboratory.--Section 7502 of the \\n        Food, Conservation, and Energy Act of 2008 (Public Law 110-246; \\n        122 Stat. 2019; 132 Stat. 4817) shall be applied by \\n        substituting ``the period beginning on the date of enactment of \\n        this Act and ending on September 30, 2024'' for ``the 15-year \\n        period beginning on the date of enactment of this Act''.\\n        (6) Energy.--\\n            (A) Biobased markets program.--Section 9002(k)(1) of the \\n        Farm Security and Rural Investment Act of 2002 (7 U.S.C. \\n        8102(k)(1)) is amended by striking ``2023'' and inserting \\n        ``2024''.\\n            (B) Bioenergy program for advanced biofuels.--Section \\n        9005(g)(1)(F) of the Farm Security and Rural Investment Act of \\n        2002 (7 U.S.C. 8105(g)(1)(F)) is amended by striking ``2023'' \\n        and inserting ``2024''.\\n            (C) Feedstock flexibility program.--Section 9010(b) of the \\n        Farm Security and Rural Investment Act of 2002 (7 U.S.C. \\n        8110(b)) is amended in paragraphs (1)(A) and (2)(A) by striking \\n        ``2023'' each place it appears and inserting ``2024''.\\n        (7) Horticulture.--\\n            (A) Organic production and market data initiatives.--\\n        Section 7407(d)(1) of the Farm Security and Rural Investment \\n        Act of 2002 (7 U.S.C. 5925c(d)(1)) is amended--\\n                (i) in subparagraph (A), by striking ``and'' at the \\n            end;\\n                (ii) in subparagraph (B), by striking the period at the \\n            end and inserting ``; and''; and\\n                (iii) by adding at the end the following:\\n            ``(C) $1,000,000 for fiscal year 2024.''.\\n            (B) Modernization and improvement of international trade \\n        technology systems and data collection.--Section 2123(c)(4) of \\n        the Organic Foods Production Act of 1990 (7 U.S.C. 6522(c)(4)) \\n        is amended, in the matter preceding subparagraph (A), by \\n        inserting ``and $1,000,000 for fiscal year 2024'' after \\n        ``2019''.\\n            (C) National organic certification cost-share program.--\\n        Section 10606(d)(1)(C) of the Farm Security and Rural \\n        Investment Act of 2002 (7 U.S.C. 6523(d)(1)(C)) is amended by \\n        striking ``and 2023'' and inserting ``through 2024''.\\n            (D) Multiple crop and pesticide use survey.--Section \\n        10109(c)(1) of the Agriculture Improvement Act of 2018 (Public \\n        Law 115-334; 132 Stat. 4906) is amended by inserting ``and \\n        $100,000 for fiscal year 2024'' after ``2019''.\\n        (8) Miscellaneous.--\\n            (A) Pima agriculture cotton trust fund.--Section 12314 of \\n        the Agricultural Act of 2014 (7 U.S.C. 2101 note; Public Law \\n        113-79) is amended--\\n                (i) in subsection (b), in the matter preceding \\n            paragraph (1), by striking ``2023'' and inserting ``2024''; \\n            and\\n                (ii) in subsection (h), by striking ``2023'' and \\n            inserting ``2024''.\\n            (B) Agriculture wool apparel manufacturers trust fund.--\\n        Section 12315 of the Agricultural Act of 2014 (7 U.S.C. 7101 \\n        note; Public Law 113-79) is amended by striking ``2023'' each \\n        place it appears and inserting ``2024''.\\n            (C) Wool research and promotion.--Section 12316(a) of the \\n        Agricultural Act of 2014 (7 U.S.C. 7101 note; Public Law 113-\\n        79) is amended by striking ``2023'' and inserting ``2024''.\\n            (D) Emergency citrus disease research and development trust \\n        fund.--Section 12605(d) of the Agriculture Improvement Act of \\n        2018 (7 U.S.C. 7632 note; Public Law 115-334) is amended by \\n        striking ``2023'' and inserting ``2024''.\\n            (E) Sheep production and marketing grant program.--Section \\n        209(c) of the Agricultural Marketing Act of 1946 (7 U.S.C. \\n        1627a(c)) is amended by inserting ``and $400,000 for fiscal \\n        year 2024,'' after ``2019,''.\\n        (9) Exceptions.--Subsection (a) shall not apply with respect to \\n    mandatory funding under the following provisions of law:\\n            (A) Section 1614(c)(4) of the Agricultural Act of 2014 (7 \\n        U.S.C. 9097(c)(4)).\\n            (B) Subparagraphs (A) and (B) of section 1241(a)(1) of the \\n        Food Security Act of 1985 (16 U.S.C. 3841(a)(1)).\\n    (e) Reports.--\\n        (1) In general.--Subject to paragraph (2), any requirement \\n    under a provision of law described in subsection (a) to submit a \\n    report on a recurring basis, and the final report under which was \\n    required to be submitted during fiscal year 2023, shall continue, \\n    and the requirement shall be carried out, on the same recurring \\n    basis, until the later of the dates specified in paragraphs (1) and \\n    (2) of that subsection.\\n        (2) Appropriations required.--If discretionary appropriations \\n    (as defined in section 250(c) of the Balanced Budget and Emergency \\n    Deficit Control Act of 1985 (2 U.S.C. 900(c))) are required to \\n    carry out a reporting requirement described in paragraph (1), the \\n    application of that paragraph to that reporting requirement shall \\n    be subject to the availability of appropriations.\\n    (f) Rescission.--Of the unobligated balances of amounts made \\navailable under section 9003(g)(1)(A) of the Farm Security and Rural \\nInvestment Act of 2002 (7 U.S.C. 8103(g)(1)(A)), $177,350,000 is \\nrescinded.\\n    (g) Effective Date.--This section and the amendments made by this \\nsection (except subsection (f) and the amendments made by subparagraphs \\n(A) and (C) of subsection (d)(5)) shall be applied and administered as \\nif this section and those amendments had been enacted on September 30, \\n2023.\\n\\n                  TITLE II--HEALTH AND HUMAN SERVICES\\n                  Subtitle A--Public Health Extenders\\n\\n    SEC. 201. EXTENSION FOR COMMUNITY HEALTH CENTERS, NATIONAL HEALTH \\n      SERVICE CORPS, AND TEACHING HEALTH CENTERS THAT OPERATE GME \\n      PROGRAMS.\\n    (a) Teaching Health Centers That Operate Graduate Medical Education \\nPrograms.--Section 340H(g)(1) of the Public Health Service Act (42 \\nU.S.C. 256h(g)) is amended by striking ``and $16,635,616 for the period \\nbeginning on October 1, 2023, and ending on November 17, 2023'' and \\ninserting ``$16,635,616 for the period beginning on October 1, 2023, \\nand ending on November 17, 2023, and $21,834,247 for the period \\nbeginning on November 18, 2023, and ending on January 19, 2024''.\\n    (b) Extension for Community Health Centers.--Section 10503(b)(1)(F) \\nof the Patient Protection and Affordable Care Act (42 U.S.C. 254b-\\n2(b)(1)(F)), as amended by the Continuing Appropriations Act, 2024 and \\nOther Extensions Act, is further amended by striking ``and $526,027,397 \\nfor the period beginning on October 1, 2023, and ending on November 17, \\n2023'' and inserting ``$526,027,397 for the period beginning on October \\n1, 2023, and ending on November 17, 2023, and $690,410,959 for the \\nperiod beginning on November 18, 2023, and ending on January 19, \\n2024''.\\n    (c) Extension for the National Health Service Corps.--Section \\n10503(b)(2)(I) of the Patient Protection and Affordable Care Act (42 \\nU.S.C. 254b-2(b)(2)(I)), as amended by the Continuing Appropriations \\nAct, 2024 and Other Extensions Act, is further amended by striking \\n``$40,767,123 for the period beginning on October 1, 2023, and ending \\non November 17, 2023'' and inserting ``$40,767,123 for the period \\nbeginning on October 1, 2023, and ending on November 17, 2023, and \\n$53,506,849 for the period beginning on November 18, 2023, and ending \\non January 19, 2024''.\\n    (d) Application of Provisions.--Amounts appropriated pursuant to \\nthe amendments made by this section shall be subject to the \\nrequirements contained in Public Law 117-328 for funds for programs \\nauthorized under sections 330 through 340 of the Public Health Service \\nAct (42 U.S.C. 254b et seq.).\\n    (e) Conforming Amendment.--Section 3014(h)(4) of title 18, United \\nStates Code, is amended by striking ``and section 2321(d) of the \\nContinuing Appropriations Act, 2024 and Other Extensions Act'' and \\ninserting ``section 2321(d) of the Continuing Appropriations Act, 2024 \\nand Other Extensions Act, and section 201(d) of the Further Continuing \\nAppropriations and Other Extensions Act, 2024''.\\n    SEC. 202. EXTENSION OF SPECIAL DIABETES PROGRAMS.\\n    (a) Extension of Special Diabetes Programs for Type I Diabetes.--\\nSection 330B(b)(2)(E) of the Public Health Service Act (42 U.S.C. 254c-\\n2(b)(2)(E)), as amended by the Continuing Appropriations Act, 2024 and \\nOther Extensions Act, is further amended by striking ``$19,726,027 for \\nthe period beginning on October 1, 2023, and ending on November 17, \\n2023'' and inserting ``$19,726,027 for the period beginning on October \\n1, 2023, and ending on November 17, 2023, and $25,890,411 for the \\nperiod beginning on November 18, 2023, and ending on January 19, \\n2024''.\\n    (b) Extending Funding for Special Diabetes Programs for Indians.--\\nSection 330C(c)(2)(E) of the Public Health Service Act (42 U.S.C. 254c-\\n3(c)(2)(E)), as amended by the Continuing Appropriations Act, 2024 and \\nOther Extensions Act, is further amended by striking ``$19,726,027 for \\nthe period beginning on October 1, 2023, and ending on November 17, \\n2023'' and inserting ``$19,726,027 for the period beginning on October \\n1, 2023, and ending on November 17, 2023, and $25,890,411 for the \\nperiod beginning on November 18, 2023, and ending on January 19, \\n2024''.\\n    SEC. 203. NATIONAL HEALTH SECURITY EXTENSIONS.\\n    (a) Section 319(e)(8) of the Public Health Service Act (42 U.S.C. \\n247d(e)(8)) is amended by striking ``November 17, 2023'' and inserting \\n``January 19, 2024''.\\n    (b) Section 319L(e)(1)(D) of the Public Health Service Act (42 \\nU.S.C. 247d-7e(e)(1)(D)) is amended by striking ``on the date that is \\n17 years after the date of enactment of the Pandemic and All-Hazards \\nPreparedness Act'' and inserting ``after January 19, 2024''.\\n    (c) Section 319L-1(b) of the Public Health Service Act (42 U.S.C. \\n247d-7f(b)) is amended by striking ``at the end of the 17-year period \\nthat begins on the date of enactment of this Act'' and inserting \\n``after January 19, 2024''.\\n    (d)(1) Section 2811A(g) of the Public Health Service Act (42 U.S.C. \\n300hh-10b(g)) is amended by striking ``November 17, 2023'' and \\ninserting ``January 19, 2024''.\\n    (2) Section 2811B(g)(1) of the Public Health Service Act (42 U.S.C. \\n300hh-10c(g)(1)) is amended by striking ``November 17, 2023'' and \\ninserting ``January 19, 2024''.\\n    (3) Section 2811C(g)(1) of the Public Health Service Act (42 U.S.C. \\n300hh-10d(g)(1)) is amended by striking ``November 17, 2023'' and \\ninserting ``January 19, 2024''.\\n    (e) Section 2812(c)(4)(B) of the Public Health Service Act (42 \\nU.S.C. 300hh-11(c)(4)(B)) is amended by striking ``November 17, 2023'' \\nand inserting ``January 19, 2024''.\\n\\n                          Subtitle B--Medicaid\\n\\n    SEC. 301. DELAYING CERTAIN DISPROPORTIONATE SHARE PAYMENT CUTS.\\n    Section 1923(f)(7)(A) of the Social Security Act (42 U.S.C. 1396r-\\n4(f)(7)(A)) is amended--\\n        (1) in clause (i), by striking ``November 18, 2023'' and \\n    inserting ``January 20, 2024''; and\\n        (2) in clause (ii), by striking ``November 18, 2023'' and \\n    inserting ``January 20, 2024''.\\n    SEC. 302. MEDICAID IMPROVEMENT FUND REDUCTION.\\n    Section 1941(b)(3)(A) of the Social Security Act (42 U.S.C. 1396w-\\n1(b)(3)(A)), as amended by the Continuing Appropriations Act, 2024 and \\nOther Extensions Act, is further amended by striking ``$6,357,117,810'' \\nand inserting ``$5,796,117,810''.\\n\\n                       Subtitle C--Human Services\\n\\n    SEC. 401. EXTENSION OF CHILD AND FAMILY SERVICES PROGRAMS.\\n    Activities authorized by part B of title IV of the Social Security \\nAct shall continue through January 19, 2024, in the manner authorized \\nfor fiscal year 2023, and out of any money in the Treasury of the \\nUnited States not otherwise appropriated, there are hereby appropriated \\nsuch sums as may be necessary for such purpose.\\n    SEC. 402. SEXUAL RISK AVOIDANCE EDUCATION EXTENSION.\\n    Section 510 of the Social Security Act (42 U.S.C. 710), as amended \\nby the Continuing Appropriations Act, 2024 and Other Extensions Act, is \\nfurther amended--\\n        (1) in subsection (a)--\\n            (A) in paragraph (1)--\\n                (i) by striking ``and for the period beginning on \\n            October 1, 2023, and ending on November 17, 2023'' and \\n            inserting ``, for the period beginning on October 1, 2023, \\n            and ending on November 17, 2023, and for the period \\n            beginning on November 18, 2023, and ending on January 19, \\n            2024''; and\\n                (ii) by striking ``with respect to such period'' and \\n            inserting ``with respect to the applicable period'';\\n            (B) in paragraphs (2)(A), by striking ``for the period'' \\n        and inserting ``for the applicable period''; and\\n            (C) in paragraphs (2)(B), by striking ``for the period'' \\n        and inserting ``for the applicable period''; and\\n        (2) in subsection (f)--\\n            (A) in paragraph (1), by striking ``and for the period \\n        beginning on October 1, 2023, and ending on November 17, 2023, \\n        an amount equal to the pro rata portion of the amount \\n        appropriated for the corresponding period for fiscal year \\n        2023'' and inserting ``for the period beginning on October 1, \\n        2023, and ending on November 17, 2023, an amount equal to the \\n        pro rata portion of the amount appropriated for the \\n        corresponding period for fiscal year 2023, and for the period \\n        beginning on November 18, 2023, and ending on January 19, 2024, \\n        an amount equal to the pro rata portion of the amount \\n        appropriated for the corresponding period for fiscal year \\n        2023''; and\\n            (B) in paragraph (2), by striking ``for the period'' and \\n        inserting ``for the applicable period''.\\n    SEC. 403. PERSONAL RESPONSIBILITY EDUCATION EXTENSION.\\n    Section 513 of the Social Security Act (42 U.S.C. 713), as amended \\nby the Continuing Appropriations Act, 2024 and Other Extensions Act, is \\nfurther amended--\\n        (1) in subsection (a)--\\n            (A) in paragraph (1)--\\n                (i) in subparagraph (A), by striking ``and for the \\n            period beginning on October 1, 2023, and ending on November \\n            17, 2023,'' and inserting ``, for the period beginning on \\n            October 1, 2023, and ending on November 17, 2023, and for \\n            the period beginning on November 18, 2023, and ending on \\n            January 19, 2024,''; and\\n                (ii) in subparagraph (B)(i), by inserting after \\n            ``November 17, 2023'' the following: ``, and for the period \\n            beginning on November 18, 2023, and ending on January 19, \\n            2024'';\\n                (iii) in subparagraph (C)(i), by striking ``for a \\n            fiscal year or the period'' and inserting ``for a fiscal \\n            year or period''; and\\n            (B) in paragraph (3), by striking ``for a fiscal year or \\n        the period'' and inserting ``for a fiscal year or period''; and\\n            (C) in paragraph (4)(A)--\\n                (i) by striking ``for the period'' each place it \\n            appears and inserting ``for each period''; and\\n                (ii) by striking ``for a fiscal year or the period'' \\n            and inserting ``for a fiscal year or period'';\\n            (D) in paragraph (4)(B)(i), by striking ``the period \\n        described in paragraph (1)(A)'' and inserting ``each period \\n        described in paragraph (1)(A)'';\\n        (2) in subsection (c), by striking ``for the period described \\n    in subsection (a)(1)(A)'' and inserting ``for a period described in \\n    subsection (a)(1)(A) for fiscal year 2024''; and\\n        (3) in subsection (f)(1), by striking ``2023, and for the \\n    period beginning on October 1, 2023, and ending on November 17, \\n    2023, an amount equal to the pro rata portion of the amount \\n    appropriated for the corresponding period for fiscal year 2023'' \\n    and inserting ``2023, for the period beginning on October 1, 2023, \\n    and ending on November 17, 2023, an amount equal to the pro rata \\n    portion of the amount appropriated for the corresponding period for \\n    fiscal year 2023, and for the period beginning on November 18, \\n    2023, and ending on January 19, 2024, an amount equal to the pro \\n    rata portion of the amount appropriated for the corresponding \\n    period for fiscal year 2023''.\\n\\n                          Subtitle D--Medicare\\n\\n    SEC. 501. EXTENDING FLOOR FOR WORK GEOGRAPHIC INDEX.\\n    Section 1848(e)(1)(E) of the Social Security Act (42 U.S.C. 1395w-\\n4(e)(1)(E)) is amended by striking ``January 1, 2024'' and inserting \\n``January 20, 2024''.\\n    SEC. 502. REVISING PHASE-IN OF MEDICARE CLINICAL LABORATORY TEST \\n      PAYMENT CHANGES.\\n    (a) Revised Phase-in of Reductions From Private Payor Rate \\nImplementation.--Section 1834A(b)(3) of the Social Security Act (42 \\nU.S.C. 1395m-1(b)(3)) is amended--\\n        (1) in subparagraph (A), by striking ``2026'' and inserting \\n    ``2027''; and\\n        (2) in subparagraph (B)--\\n            (A) in clause (ii), by striking ``2023'' and inserting \\n        ``2024''; and\\n            (B) in clause (iii), by striking ``2024 through 2026'' and \\n        inserting ``2025 through 2027''.\\n    (b) Revised Reporting Period for Reporting of Private Sector \\nPayment Rates for Establishment of Medicare Payment Rates.--Section \\n1834A(a)(1)(B) of the Social Security Act (42 U.S.C. 1395m-1(a)(1)(B)) \\nis amended--\\n        (1) in clause (i), by striking ``2023'' and inserting ``2024''; \\n    and\\n        (2) in clause (ii), by striking ``2024'' each place it appears \\n    and inserting ``2025''.\\n    SEC. 503. MEDICARE IMPROVEMENT FUND.\\n    Section 1898(b)(1) of the Social Security Act (42 U.S.C. \\n1395iii(b)(1)) is amended by striking ``$180,000,000'' and inserting \\n``$466,795,056''.\\n\\n                  TITLE III--MISCELLANEOUS EXTENSIONS\\n\\n    SEC. 601. COUNTER-UAS AUTHORITIES.\\n    Section 210G(i) of the Homeland Security Act of 2002 (6 U.S.C. \\n124n(i)) is amended by striking ``November 18, 2023'' and inserting \\n``February 3, 2024''.\\n\\n                      TITLE IV--BUDGETARY EFFECTS\\n\\n    SEC. 701. BUDGETARY EFFECTS.\\n    (a) Statutory PAYGO Scorecards.--The budgetary effects of this \\ndivision shall not be entered on either PAYGO scorecard maintained \\npursuant to section 4(d) of the Statutory Pay-As-You-Go Act of 2010.\\n    (b) Senate PAYGO Scorecards.--The budgetary effects of this \\ndivision shall not be entered on any PAYGO scorecard maintained for \\npurposes of section 4106 of H. Con. Res. 71 (115th Congress).\\n    (c) Classification of Budgetary Effects.--Notwithstanding Rule 3 of \\nthe Budget Scorekeeping Guidelines set forth in the joint explanatory \\nstatement of the committee of conference accompanying Conference Report \\n105-217 and section 250(c)(8) of the Balanced Budget and Emergency \\nDeficit Control Act of 1985, the budgetary effects of this division \\nshall not be estimated--\\n        (1) for purposes of section 251 of such Act;\\n        (2) for purposes of an allocation to the Committee on \\n    Appropriations pursuant to section 302(a) of the Congressional \\n    Budget Act of 1974; and\\n        (3) for purposes of paragraph (4)(C) of section 3 of the \\n    Statutory Pay-As-You-Go Act of 2010 as being included in an \\n    appropriation Act.\\n\\n                               Speaker of the House of Representatives.\\n\\n                            Vice President of the United States and    \\n                                               President of the Senate.\\n</pre></body></html>\\n\""
      ]
     },
     "execution_count": 8,
     "metadata": {},
     "output_type": "execute_result"
    }
   ],
   "source": [
    "# scrape text from site\n",
    "result = requests.get(text_url)\n",
    "content = result.text\n",
    "soup = BeautifulSoup(content, 'lxml')\n",
    "soup_string = str(soup)\n",
    "soup_string"
   ]
  },
  {
   "cell_type": "code",
   "execution_count": 9,
   "id": "9dc4a67c-a617-40dc-ab63-464105b595b2",
   "metadata": {},
   "outputs": [],
   "source": [
    "# save as .txt\n",
    "# Specify the file name\n",
    "file_name = 'federal_spending_2024.txt'\n",
    "\n",
    "# Open the file in write mode and write the string to it\n",
    "with open(file_name, 'w') as file:\n",
    "    file.write(soup_string)"
   ]
  },
  {
   "cell_type": "markdown",
   "id": "59ff0c5f-f83d-4feb-a582-130fe112c7f1",
   "metadata": {},
   "source": [
    "## Spending bill 2021"
   ]
  },
  {
   "cell_type": "code",
   "execution_count": 10,
   "id": "ba1695cd-c9b6-46f3-a23c-4e9272e8cd21",
   "metadata": {},
   "outputs": [
    {
     "data": {
      "text/plain": [
       "'https://www.congress.gov/116/bills/hr133/BILLS-116hr133enr.htm'"
      ]
     },
     "execution_count": 10,
     "metadata": {},
     "output_type": "execute_result"
    }
   ],
   "source": [
    "\n",
    "# longest bill ever is H.R.133 - Consolidated Appropriations Act, 2021 ie Federal spending bill during Covid\n",
    "# HR 133 of congress 116\n",
    "# api call on congress.gov retrieving url of text\n",
    "query_url = f\"https://api.congress.gov/v3/bill/116/hr/133/text?api_key={congress_api_key}\"\n",
    "response = requests.get(query_url)\n",
    "json_data = response.json()\n",
    "text_url = json_data['textVersions'][0]['formats'][0]['url']\n",
    "text_url"
   ]
  },
  {
   "cell_type": "code",
   "execution_count": 11,
   "id": "66937097-af2e-4f93-911c-380bfd97a369",
   "metadata": {},
   "outputs": [],
   "source": [
    "# scrape text from site\n",
    "result = requests.get(text_url)\n",
    "content = result.text\n",
    "soup = BeautifulSoup(content, 'lxml')\n",
    "soup_string = str(soup)"
   ]
  },
  {
   "cell_type": "code",
   "execution_count": 13,
   "id": "de6abf54-6dda-485a-98f7-858487e371ab",
   "metadata": {},
   "outputs": [
    {
     "data": {
      "text/plain": [
       "6790768"
      ]
     },
     "execution_count": 13,
     "metadata": {},
     "output_type": "execute_result"
    }
   ],
   "source": [
    "len(soup_string)"
   ]
  },
  {
   "cell_type": "code",
   "execution_count": 14,
   "id": "17526d58-b33a-4dd3-bc0a-e81eba079530",
   "metadata": {},
   "outputs": [],
   "source": [
    "# save as .txt\n",
    "# Specify the file name\n",
    "file_name = 'federal_spending_2021.txt'\n",
    "\n",
    "# Open the file in write mode and write the string to it\n",
    "with open(file_name, 'w') as file:\n",
    "    file.write(soup_string)"
   ]
  },
  {
   "cell_type": "code",
   "execution_count": null,
   "id": "b50009f4-3532-40b7-8fba-204290768027",
   "metadata": {},
   "outputs": [],
   "source": []
  }
 ],
 "metadata": {
  "kernelspec": {
   "display_name": "Python 3 (ipykernel)",
   "language": "python",
   "name": "python3"
  },
  "language_info": {
   "codemirror_mode": {
    "name": "ipython",
    "version": 3
   },
   "file_extension": ".py",
   "mimetype": "text/x-python",
   "name": "python",
   "nbconvert_exporter": "python",
   "pygments_lexer": "ipython3",
   "version": "3.7.13"
  }
 },
 "nbformat": 4,
 "nbformat_minor": 5
}
