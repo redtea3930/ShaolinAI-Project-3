{
 "cells": [
  {
   "cell_type": "code",
   "execution_count": 19,
   "id": "f46ea5e5-f680-4216-bf5d-fb6aded3f0ac",
   "metadata": {},
   "outputs": [],
   "source": [
    "import json\n",
    "import pandas as pd\n",
    "import requests\n",
    "import time\n",
    "from bs4 import BeautifulSoup\n",
    "\n",
    "from tqdm import tqdm  # Import tqdm for the progress bar\n",
    "\n",
    "\n",
    "# api key for congress.gov\n",
    "from api_key import congress_api_key"
   ]
  },
  {
   "cell_type": "markdown",
   "id": "98cc4aad-7596-42a4-902d-a867c7aa5d11",
   "metadata": {},
   "source": [
    "## Scraping with BeautifulSoup"
   ]
  },
  {
   "cell_type": "code",
   "execution_count": 4,
   "id": "9ef23a75-57a2-4771-8563-99c56d6f6600",
   "metadata": {},
   "outputs": [],
   "source": [
    "# create dataframe to contain texts\n",
    "congress_115_text_df = pd.read_csv('congress_115_hr_urls.csv')"
   ]
  },
  {
   "cell_type": "code",
   "execution_count": 6,
   "id": "9b813b48-b4e1-45be-b2e5-d59048d1c2fa",
   "metadata": {},
   "outputs": [],
   "source": [
    "# test scrape for scraping text from url with BeautifulSoup\n",
    "url =  congress_115_text_df['TextUrl'][501]\n",
    "result = requests.get(url)\n",
    "content = result.text\n",
    "\n",
    "soup = BeautifulSoup(content, 'lxml')\n",
    "soup_string = str(soup)\n",
    "\n"
   ]
  },
  {
   "cell_type": "code",
   "execution_count": 7,
   "id": "4d5dce5d-7675-4209-8942-40e568cb315b",
   "metadata": {},
   "outputs": [
    {
     "data": {
      "text/plain": [
       "2255"
      ]
     },
     "execution_count": 7,
     "metadata": {},
     "output_type": "execute_result"
    }
   ],
   "source": [
    "len(congress_115_text_df)"
   ]
  },
  {
   "cell_type": "code",
   "execution_count": 16,
   "id": "06f9884f-38dd-48dd-9634-2ce36cbeee4b",
   "metadata": {},
   "outputs": [
    {
     "data": {
      "text/plain": [
       "Int64Index([], dtype='int64')"
      ]
     },
     "execution_count": 16,
     "metadata": {},
     "output_type": "execute_result"
    }
   ],
   "source": [
    "null_indices = congress_115_text_df[congress_115_text_df['TextUrl'].isnull()].index\n",
    "null_indices"
   ]
  },
  {
   "cell_type": "code",
   "execution_count": 60,
   "id": "47fa58ad-9df7-45a9-8df5-e29a71f33197",
   "metadata": {
    "tags": []
   },
   "outputs": [
    {
     "data": {
      "text/html": [
       "<div>\n",
       "<style scoped>\n",
       "    .dataframe tbody tr th:only-of-type {\n",
       "        vertical-align: middle;\n",
       "    }\n",
       "\n",
       "    .dataframe tbody tr th {\n",
       "        vertical-align: top;\n",
       "    }\n",
       "\n",
       "    .dataframe thead th {\n",
       "        text-align: right;\n",
       "    }\n",
       "</style>\n",
       "<table border=\"1\" class=\"dataframe\">\n",
       "  <thead>\n",
       "    <tr style=\"text-align: right;\">\n",
       "      <th></th>\n",
       "      <th>0</th>\n",
       "    </tr>\n",
       "  </thead>\n",
       "  <tbody>\n",
       "    <tr>\n",
       "      <th>0</th>\n",
       "      <td>&lt;html&gt;&lt;body&gt;&lt;pre&gt;\\n[Congressional Bills 115th ...</td>\n",
       "    </tr>\n",
       "    <tr>\n",
       "      <th>1</th>\n",
       "      <td>&lt;html&gt;&lt;body&gt;&lt;pre&gt;\\n[Congressional Bills 115th ...</td>\n",
       "    </tr>\n",
       "    <tr>\n",
       "      <th>2</th>\n",
       "      <td>&lt;html&gt;&lt;body&gt;&lt;pre&gt;\\n[Congressional Bills 115th ...</td>\n",
       "    </tr>\n",
       "    <tr>\n",
       "      <th>3</th>\n",
       "      <td>&lt;html&gt;&lt;body&gt;&lt;pre&gt;\\n[Congressional Bills 115th ...</td>\n",
       "    </tr>\n",
       "    <tr>\n",
       "      <th>4</th>\n",
       "      <td>&lt;html&gt;&lt;body&gt;&lt;pre&gt;\\n[Congressional Bills 115th ...</td>\n",
       "    </tr>\n",
       "  </tbody>\n",
       "</table>\n",
       "</div>"
      ],
      "text/plain": [
       "                                                   0\n",
       "0  <html><body><pre>\\n[Congressional Bills 115th ...\n",
       "1  <html><body><pre>\\n[Congressional Bills 115th ...\n",
       "2  <html><body><pre>\\n[Congressional Bills 115th ...\n",
       "3  <html><body><pre>\\n[Congressional Bills 115th ...\n",
       "4  <html><body><pre>\\n[Congressional Bills 115th ..."
      ]
     },
     "execution_count": 60,
     "metadata": {},
     "output_type": "execute_result"
    }
   ],
   "source": [
    "# test loop for scraping text with BeautifulSoup\n",
    "test_text = []\n",
    "\n",
    "\n",
    "for i in range(0, 5):\n",
    "    url =  congress_115_hr_df['TextUrl'][i]\n",
    "    result = requests.get(url)\n",
    "    content = result.text\n",
    "\n",
    "    soup = BeautifulSoup(content, 'lxml')\n",
    "    soup_string = str(soup)\n",
    "    test_text.append(soup_string)\n",
    "\n",
    "test_text_df = pd.DataFrame(test_text)\n",
    "test_text_df"
   ]
  },
  {
   "cell_type": "raw",
   "id": "98ab4132-436d-4088-abe9-76294fed69b4",
   "metadata": {},
   "source": [
    "# Draft working loop for data scrape to congress_115_text_df\n",
    "\n",
    "for i in range(0, 5):\n",
    "    url =  congress_115_text_df['TextUrl'][i]\n",
    "    result = requests.get(url)\n",
    "    content = result.text\n",
    "\n",
    "    soup = BeautifulSoup(content, 'lxml')\n",
    "    soup_string = str(soup)\n",
    "    congress_115_text_df['Text'][i] = soup_string\n",
    "\n"
   ]
  },
  {
   "cell_type": "code",
   "execution_count": null,
   "id": "bef754d6-7921-49a7-b77f-a17126ba2279",
   "metadata": {},
   "outputs": [],
   "source": [
    "# ChatGPT suggested edit\n",
    "\n",
    "# Create a new 'Text' column to store the scraped text\n",
    "congress_115_text_df['Text'] = \"\"\n",
    "\n",
    "#create list to store index of rows that do not run in loop\n",
    "error_index = []\n",
    "\n",
    "# Iterate over rows using iterrows\n",
    "for index, row in congress_115_text_df.iterrows():\n",
    "    url = row['TextUrl']\n",
    "\n",
    "    try:\n",
    "        result = requests.get(url)\n",
    "        result.raise_for_status()  # Raise an exception for bad status codes (4xx or 5xx)\n",
    "\n",
    "        content = result.text\n",
    "        soup = BeautifulSoup(content, 'lxml')\n",
    "        soup_string = str(soup)\n",
    "\n",
    "        # Store the scraped text in the 'Text' column\n",
    "        congress_115_text_df.at[index, 'Text'] = soup_string\n",
    "        print(f\"Scraped data for row {index}\")\n",
    "\n",
    "    except Exception as e:\n",
    "        error_index.append(index)\n",
    "        print(f\"Failed to fetch data for row {index}: {e}\")\n"
   ]
  },
  {
   "cell_type": "code",
   "execution_count": 18,
   "id": "9fe0e7e0-69b3-40da-bf7b-0eb7f61b7270",
   "metadata": {},
   "outputs": [
    {
     "data": {
      "text/html": [
       "<div>\n",
       "<style scoped>\n",
       "    .dataframe tbody tr th:only-of-type {\n",
       "        vertical-align: middle;\n",
       "    }\n",
       "\n",
       "    .dataframe tbody tr th {\n",
       "        vertical-align: top;\n",
       "    }\n",
       "\n",
       "    .dataframe thead th {\n",
       "        text-align: right;\n",
       "    }\n",
       "</style>\n",
       "<table border=\"1\" class=\"dataframe\">\n",
       "  <thead>\n",
       "    <tr style=\"text-align: right;\">\n",
       "      <th></th>\n",
       "      <th>BillNumber</th>\n",
       "      <th>Summary</th>\n",
       "      <th>TextUrl</th>\n",
       "      <th>Text</th>\n",
       "    </tr>\n",
       "  </thead>\n",
       "  <tbody>\n",
       "    <tr>\n",
       "      <th>0</th>\n",
       "      <td>5</td>\n",
       "      <td>(This measure has not been amended since it wa...</td>\n",
       "      <td>https://www.congress.gov/115/bills/hr5/BILLS-1...</td>\n",
       "      <td></td>\n",
       "    </tr>\n",
       "    <tr>\n",
       "      <th>1</th>\n",
       "      <td>7</td>\n",
       "      <td>(This measure has not been amended since it wa...</td>\n",
       "      <td>https://www.congress.gov/115/bills/hr7/BILLS-1...</td>\n",
       "      <td></td>\n",
       "    </tr>\n",
       "    <tr>\n",
       "      <th>2</th>\n",
       "      <td>10</td>\n",
       "      <td>Financial CHOICE Act of 2017\\n\\n (Sec. 2) This...</td>\n",
       "      <td>https://www.congress.gov/115/bills/hr10/BILLS-...</td>\n",
       "      <td></td>\n",
       "    </tr>\n",
       "    <tr>\n",
       "      <th>3</th>\n",
       "      <td>15</td>\n",
       "      <td>Raise the Wage Act\\n\\nThis bill amends the Fai...</td>\n",
       "      <td>https://www.congress.gov/115/bills/hr15/BILLS-...</td>\n",
       "      <td></td>\n",
       "    </tr>\n",
       "    <tr>\n",
       "      <th>4</th>\n",
       "      <td>19</td>\n",
       "      <td>Smithsonian Women's History Museum Act\\n\\nThis...</td>\n",
       "      <td>https://www.congress.gov/115/bills/hr19/BILLS-...</td>\n",
       "      <td></td>\n",
       "    </tr>\n",
       "  </tbody>\n",
       "</table>\n",
       "</div>"
      ],
      "text/plain": [
       "   BillNumber                                            Summary  \\\n",
       "0           5  (This measure has not been amended since it wa...   \n",
       "1           7  (This measure has not been amended since it wa...   \n",
       "2          10  Financial CHOICE Act of 2017\\n\\n (Sec. 2) This...   \n",
       "3          15  Raise the Wage Act\\n\\nThis bill amends the Fai...   \n",
       "4          19  Smithsonian Women's History Museum Act\\n\\nThis...   \n",
       "\n",
       "                                             TextUrl Text  \n",
       "0  https://www.congress.gov/115/bills/hr5/BILLS-1...       \n",
       "1  https://www.congress.gov/115/bills/hr7/BILLS-1...       \n",
       "2  https://www.congress.gov/115/bills/hr10/BILLS-...       \n",
       "3  https://www.congress.gov/115/bills/hr15/BILLS-...       \n",
       "4  https://www.congress.gov/115/bills/hr19/BILLS-...       "
      ]
     },
     "execution_count": 18,
     "metadata": {},
     "output_type": "execute_result"
    }
   ],
   "source": [
    "congress_115_text_df.head()"
   ]
  },
  {
   "cell_type": "code",
   "execution_count": 20,
   "id": "747442f6-0900-45fa-be7e-1a1dab73a654",
   "metadata": {},
   "outputs": [
    {
     "name": "stderr",
     "output_type": "stream",
     "text": [
      "Processing Rows:   1%|▏                | 23/2255 [02:43<4:23:49,  7.09s/it]\n"
     ]
    },
    {
     "ename": "KeyboardInterrupt",
     "evalue": "",
     "output_type": "error",
     "traceback": [
      "\u001b[0;31m---------------------------------------------------------------------------\u001b[0m",
      "\u001b[0;31mKeyboardInterrupt\u001b[0m                         Traceback (most recent call last)",
      "\u001b[0;32m/var/folders/5k/k2z13ft93tl12wvdks82c4pc0000gn/T/ipykernel_72445/1157659813.py\u001b[0m in \u001b[0;36m<module>\u001b[0;34m\u001b[0m\n\u001b[1;32m     11\u001b[0m \u001b[0;34m\u001b[0m\u001b[0m\n\u001b[1;32m     12\u001b[0m     \u001b[0;32mtry\u001b[0m\u001b[0;34m:\u001b[0m\u001b[0;34m\u001b[0m\u001b[0;34m\u001b[0m\u001b[0m\n\u001b[0;32m---> 13\u001b[0;31m         \u001b[0mresult\u001b[0m \u001b[0;34m=\u001b[0m \u001b[0mrequests\u001b[0m\u001b[0;34m.\u001b[0m\u001b[0mget\u001b[0m\u001b[0;34m(\u001b[0m\u001b[0murl\u001b[0m\u001b[0;34m)\u001b[0m\u001b[0;34m\u001b[0m\u001b[0;34m\u001b[0m\u001b[0m\n\u001b[0m\u001b[1;32m     14\u001b[0m         \u001b[0mresult\u001b[0m\u001b[0;34m.\u001b[0m\u001b[0mraise_for_status\u001b[0m\u001b[0;34m(\u001b[0m\u001b[0;34m)\u001b[0m  \u001b[0;31m# Raise an exception for bad status codes (4xx or 5xx)\u001b[0m\u001b[0;34m\u001b[0m\u001b[0;34m\u001b[0m\u001b[0m\n\u001b[1;32m     15\u001b[0m \u001b[0;34m\u001b[0m\u001b[0m\n",
      "\u001b[0;32m~/anaconda3/envs/mlenv/lib/python3.7/site-packages/requests/api.py\u001b[0m in \u001b[0;36mget\u001b[0;34m(url, params, **kwargs)\u001b[0m\n\u001b[1;32m     71\u001b[0m     \"\"\"\n\u001b[1;32m     72\u001b[0m \u001b[0;34m\u001b[0m\u001b[0m\n\u001b[0;32m---> 73\u001b[0;31m     \u001b[0;32mreturn\u001b[0m \u001b[0mrequest\u001b[0m\u001b[0;34m(\u001b[0m\u001b[0;34m\"get\"\u001b[0m\u001b[0;34m,\u001b[0m \u001b[0murl\u001b[0m\u001b[0;34m,\u001b[0m \u001b[0mparams\u001b[0m\u001b[0;34m=\u001b[0m\u001b[0mparams\u001b[0m\u001b[0;34m,\u001b[0m \u001b[0;34m**\u001b[0m\u001b[0mkwargs\u001b[0m\u001b[0;34m)\u001b[0m\u001b[0;34m\u001b[0m\u001b[0;34m\u001b[0m\u001b[0m\n\u001b[0m\u001b[1;32m     74\u001b[0m \u001b[0;34m\u001b[0m\u001b[0m\n\u001b[1;32m     75\u001b[0m \u001b[0;34m\u001b[0m\u001b[0m\n",
      "\u001b[0;32m~/anaconda3/envs/mlenv/lib/python3.7/site-packages/requests/api.py\u001b[0m in \u001b[0;36mrequest\u001b[0;34m(method, url, **kwargs)\u001b[0m\n\u001b[1;32m     57\u001b[0m     \u001b[0;31m# cases, and look like a memory leak in others.\u001b[0m\u001b[0;34m\u001b[0m\u001b[0;34m\u001b[0m\u001b[0;34m\u001b[0m\u001b[0m\n\u001b[1;32m     58\u001b[0m     \u001b[0;32mwith\u001b[0m \u001b[0msessions\u001b[0m\u001b[0;34m.\u001b[0m\u001b[0mSession\u001b[0m\u001b[0;34m(\u001b[0m\u001b[0;34m)\u001b[0m \u001b[0;32mas\u001b[0m \u001b[0msession\u001b[0m\u001b[0;34m:\u001b[0m\u001b[0;34m\u001b[0m\u001b[0;34m\u001b[0m\u001b[0m\n\u001b[0;32m---> 59\u001b[0;31m         \u001b[0;32mreturn\u001b[0m \u001b[0msession\u001b[0m\u001b[0;34m.\u001b[0m\u001b[0mrequest\u001b[0m\u001b[0;34m(\u001b[0m\u001b[0mmethod\u001b[0m\u001b[0;34m=\u001b[0m\u001b[0mmethod\u001b[0m\u001b[0;34m,\u001b[0m \u001b[0murl\u001b[0m\u001b[0;34m=\u001b[0m\u001b[0murl\u001b[0m\u001b[0;34m,\u001b[0m \u001b[0;34m**\u001b[0m\u001b[0mkwargs\u001b[0m\u001b[0;34m)\u001b[0m\u001b[0;34m\u001b[0m\u001b[0;34m\u001b[0m\u001b[0m\n\u001b[0m\u001b[1;32m     60\u001b[0m \u001b[0;34m\u001b[0m\u001b[0m\n\u001b[1;32m     61\u001b[0m \u001b[0;34m\u001b[0m\u001b[0m\n",
      "\u001b[0;32m~/anaconda3/envs/mlenv/lib/python3.7/site-packages/requests/sessions.py\u001b[0m in \u001b[0;36mrequest\u001b[0;34m(self, method, url, params, data, headers, cookies, files, auth, timeout, allow_redirects, proxies, hooks, stream, verify, cert, json)\u001b[0m\n\u001b[1;32m    587\u001b[0m         }\n\u001b[1;32m    588\u001b[0m         \u001b[0msend_kwargs\u001b[0m\u001b[0;34m.\u001b[0m\u001b[0mupdate\u001b[0m\u001b[0;34m(\u001b[0m\u001b[0msettings\u001b[0m\u001b[0;34m)\u001b[0m\u001b[0;34m\u001b[0m\u001b[0;34m\u001b[0m\u001b[0m\n\u001b[0;32m--> 589\u001b[0;31m         \u001b[0mresp\u001b[0m \u001b[0;34m=\u001b[0m \u001b[0mself\u001b[0m\u001b[0;34m.\u001b[0m\u001b[0msend\u001b[0m\u001b[0;34m(\u001b[0m\u001b[0mprep\u001b[0m\u001b[0;34m,\u001b[0m \u001b[0;34m**\u001b[0m\u001b[0msend_kwargs\u001b[0m\u001b[0;34m)\u001b[0m\u001b[0;34m\u001b[0m\u001b[0;34m\u001b[0m\u001b[0m\n\u001b[0m\u001b[1;32m    590\u001b[0m \u001b[0;34m\u001b[0m\u001b[0m\n\u001b[1;32m    591\u001b[0m         \u001b[0;32mreturn\u001b[0m \u001b[0mresp\u001b[0m\u001b[0;34m\u001b[0m\u001b[0;34m\u001b[0m\u001b[0m\n",
      "\u001b[0;32m~/anaconda3/envs/mlenv/lib/python3.7/site-packages/requests/sessions.py\u001b[0m in \u001b[0;36msend\u001b[0;34m(self, request, **kwargs)\u001b[0m\n\u001b[1;32m    701\u001b[0m \u001b[0;34m\u001b[0m\u001b[0m\n\u001b[1;32m    702\u001b[0m         \u001b[0;31m# Send the request\u001b[0m\u001b[0;34m\u001b[0m\u001b[0;34m\u001b[0m\u001b[0;34m\u001b[0m\u001b[0m\n\u001b[0;32m--> 703\u001b[0;31m         \u001b[0mr\u001b[0m \u001b[0;34m=\u001b[0m \u001b[0madapter\u001b[0m\u001b[0;34m.\u001b[0m\u001b[0msend\u001b[0m\u001b[0;34m(\u001b[0m\u001b[0mrequest\u001b[0m\u001b[0;34m,\u001b[0m \u001b[0;34m**\u001b[0m\u001b[0mkwargs\u001b[0m\u001b[0;34m)\u001b[0m\u001b[0;34m\u001b[0m\u001b[0;34m\u001b[0m\u001b[0m\n\u001b[0m\u001b[1;32m    704\u001b[0m \u001b[0;34m\u001b[0m\u001b[0m\n\u001b[1;32m    705\u001b[0m         \u001b[0;31m# Total elapsed time of the request (approximately)\u001b[0m\u001b[0;34m\u001b[0m\u001b[0;34m\u001b[0m\u001b[0;34m\u001b[0m\u001b[0m\n",
      "\u001b[0;32m~/anaconda3/envs/mlenv/lib/python3.7/site-packages/requests/adapters.py\u001b[0m in \u001b[0;36msend\u001b[0;34m(self, request, stream, timeout, verify, cert, proxies)\u001b[0m\n\u001b[1;32m    495\u001b[0m                 \u001b[0mretries\u001b[0m\u001b[0;34m=\u001b[0m\u001b[0mself\u001b[0m\u001b[0;34m.\u001b[0m\u001b[0mmax_retries\u001b[0m\u001b[0;34m,\u001b[0m\u001b[0;34m\u001b[0m\u001b[0;34m\u001b[0m\u001b[0m\n\u001b[1;32m    496\u001b[0m                 \u001b[0mtimeout\u001b[0m\u001b[0;34m=\u001b[0m\u001b[0mtimeout\u001b[0m\u001b[0;34m,\u001b[0m\u001b[0;34m\u001b[0m\u001b[0;34m\u001b[0m\u001b[0m\n\u001b[0;32m--> 497\u001b[0;31m                 \u001b[0mchunked\u001b[0m\u001b[0;34m=\u001b[0m\u001b[0mchunked\u001b[0m\u001b[0;34m,\u001b[0m\u001b[0;34m\u001b[0m\u001b[0;34m\u001b[0m\u001b[0m\n\u001b[0m\u001b[1;32m    498\u001b[0m             )\n\u001b[1;32m    499\u001b[0m \u001b[0;34m\u001b[0m\u001b[0m\n",
      "\u001b[0;32m~/anaconda3/envs/mlenv/lib/python3.7/site-packages/urllib3/connectionpool.py\u001b[0m in \u001b[0;36murlopen\u001b[0;34m(self, method, url, body, headers, retries, redirect, assert_same_host, timeout, pool_timeout, release_conn, chunked, body_pos, **response_kw)\u001b[0m\n\u001b[1;32m    708\u001b[0m                 \u001b[0mbody\u001b[0m\u001b[0;34m=\u001b[0m\u001b[0mbody\u001b[0m\u001b[0;34m,\u001b[0m\u001b[0;34m\u001b[0m\u001b[0;34m\u001b[0m\u001b[0m\n\u001b[1;32m    709\u001b[0m                 \u001b[0mheaders\u001b[0m\u001b[0;34m=\u001b[0m\u001b[0mheaders\u001b[0m\u001b[0;34m,\u001b[0m\u001b[0;34m\u001b[0m\u001b[0;34m\u001b[0m\u001b[0m\n\u001b[0;32m--> 710\u001b[0;31m                 \u001b[0mchunked\u001b[0m\u001b[0;34m=\u001b[0m\u001b[0mchunked\u001b[0m\u001b[0;34m,\u001b[0m\u001b[0;34m\u001b[0m\u001b[0;34m\u001b[0m\u001b[0m\n\u001b[0m\u001b[1;32m    711\u001b[0m             )\n\u001b[1;32m    712\u001b[0m \u001b[0;34m\u001b[0m\u001b[0m\n",
      "\u001b[0;32m~/anaconda3/envs/mlenv/lib/python3.7/site-packages/urllib3/connectionpool.py\u001b[0m in \u001b[0;36m_make_request\u001b[0;34m(self, conn, method, url, timeout, chunked, **httplib_request_kw)\u001b[0m\n\u001b[1;32m    447\u001b[0m                     \u001b[0;31m# Python 3 (including for exceptions like SystemExit).\u001b[0m\u001b[0;34m\u001b[0m\u001b[0;34m\u001b[0m\u001b[0;34m\u001b[0m\u001b[0m\n\u001b[1;32m    448\u001b[0m                     \u001b[0;31m# Otherwise it looks like a bug in the code.\u001b[0m\u001b[0;34m\u001b[0m\u001b[0;34m\u001b[0m\u001b[0;34m\u001b[0m\u001b[0m\n\u001b[0;32m--> 449\u001b[0;31m                     \u001b[0msix\u001b[0m\u001b[0;34m.\u001b[0m\u001b[0mraise_from\u001b[0m\u001b[0;34m(\u001b[0m\u001b[0me\u001b[0m\u001b[0;34m,\u001b[0m \u001b[0;32mNone\u001b[0m\u001b[0;34m)\u001b[0m\u001b[0;34m\u001b[0m\u001b[0;34m\u001b[0m\u001b[0m\n\u001b[0m\u001b[1;32m    450\u001b[0m         \u001b[0;32mexcept\u001b[0m \u001b[0;34m(\u001b[0m\u001b[0mSocketTimeout\u001b[0m\u001b[0;34m,\u001b[0m \u001b[0mBaseSSLError\u001b[0m\u001b[0;34m,\u001b[0m \u001b[0mSocketError\u001b[0m\u001b[0;34m)\u001b[0m \u001b[0;32mas\u001b[0m \u001b[0me\u001b[0m\u001b[0;34m:\u001b[0m\u001b[0;34m\u001b[0m\u001b[0;34m\u001b[0m\u001b[0m\n\u001b[1;32m    451\u001b[0m             \u001b[0mself\u001b[0m\u001b[0;34m.\u001b[0m\u001b[0m_raise_timeout\u001b[0m\u001b[0;34m(\u001b[0m\u001b[0merr\u001b[0m\u001b[0;34m=\u001b[0m\u001b[0me\u001b[0m\u001b[0;34m,\u001b[0m \u001b[0murl\u001b[0m\u001b[0;34m=\u001b[0m\u001b[0murl\u001b[0m\u001b[0;34m,\u001b[0m \u001b[0mtimeout_value\u001b[0m\u001b[0;34m=\u001b[0m\u001b[0mread_timeout\u001b[0m\u001b[0;34m)\u001b[0m\u001b[0;34m\u001b[0m\u001b[0;34m\u001b[0m\u001b[0m\n",
      "\u001b[0;32m~/anaconda3/envs/mlenv/lib/python3.7/site-packages/urllib3/packages/six.py\u001b[0m in \u001b[0;36mraise_from\u001b[0;34m(value, from_value)\u001b[0m\n",
      "\u001b[0;32m~/anaconda3/envs/mlenv/lib/python3.7/site-packages/urllib3/connectionpool.py\u001b[0m in \u001b[0;36m_make_request\u001b[0;34m(self, conn, method, url, timeout, chunked, **httplib_request_kw)\u001b[0m\n\u001b[1;32m    442\u001b[0m                 \u001b[0;31m# Python 3\u001b[0m\u001b[0;34m\u001b[0m\u001b[0;34m\u001b[0m\u001b[0;34m\u001b[0m\u001b[0m\n\u001b[1;32m    443\u001b[0m                 \u001b[0;32mtry\u001b[0m\u001b[0;34m:\u001b[0m\u001b[0;34m\u001b[0m\u001b[0;34m\u001b[0m\u001b[0m\n\u001b[0;32m--> 444\u001b[0;31m                     \u001b[0mhttplib_response\u001b[0m \u001b[0;34m=\u001b[0m \u001b[0mconn\u001b[0m\u001b[0;34m.\u001b[0m\u001b[0mgetresponse\u001b[0m\u001b[0;34m(\u001b[0m\u001b[0;34m)\u001b[0m\u001b[0;34m\u001b[0m\u001b[0;34m\u001b[0m\u001b[0m\n\u001b[0m\u001b[1;32m    445\u001b[0m                 \u001b[0;32mexcept\u001b[0m \u001b[0mBaseException\u001b[0m \u001b[0;32mas\u001b[0m \u001b[0me\u001b[0m\u001b[0;34m:\u001b[0m\u001b[0;34m\u001b[0m\u001b[0;34m\u001b[0m\u001b[0m\n\u001b[1;32m    446\u001b[0m                     \u001b[0;31m# Remove the TypeError from the exception chain in\u001b[0m\u001b[0;34m\u001b[0m\u001b[0;34m\u001b[0m\u001b[0;34m\u001b[0m\u001b[0m\n",
      "\u001b[0;32m~/anaconda3/envs/mlenv/lib/python3.7/http/client.py\u001b[0m in \u001b[0;36mgetresponse\u001b[0;34m(self)\u001b[0m\n\u001b[1;32m   1371\u001b[0m         \u001b[0;32mtry\u001b[0m\u001b[0;34m:\u001b[0m\u001b[0;34m\u001b[0m\u001b[0;34m\u001b[0m\u001b[0m\n\u001b[1;32m   1372\u001b[0m             \u001b[0;32mtry\u001b[0m\u001b[0;34m:\u001b[0m\u001b[0;34m\u001b[0m\u001b[0;34m\u001b[0m\u001b[0m\n\u001b[0;32m-> 1373\u001b[0;31m                 \u001b[0mresponse\u001b[0m\u001b[0;34m.\u001b[0m\u001b[0mbegin\u001b[0m\u001b[0;34m(\u001b[0m\u001b[0;34m)\u001b[0m\u001b[0;34m\u001b[0m\u001b[0;34m\u001b[0m\u001b[0m\n\u001b[0m\u001b[1;32m   1374\u001b[0m             \u001b[0;32mexcept\u001b[0m \u001b[0mConnectionError\u001b[0m\u001b[0;34m:\u001b[0m\u001b[0;34m\u001b[0m\u001b[0;34m\u001b[0m\u001b[0m\n\u001b[1;32m   1375\u001b[0m                 \u001b[0mself\u001b[0m\u001b[0;34m.\u001b[0m\u001b[0mclose\u001b[0m\u001b[0;34m(\u001b[0m\u001b[0;34m)\u001b[0m\u001b[0;34m\u001b[0m\u001b[0;34m\u001b[0m\u001b[0m\n",
      "\u001b[0;32m~/anaconda3/envs/mlenv/lib/python3.7/http/client.py\u001b[0m in \u001b[0;36mbegin\u001b[0;34m(self)\u001b[0m\n\u001b[1;32m    317\u001b[0m         \u001b[0;31m# read until we get a non-100 response\u001b[0m\u001b[0;34m\u001b[0m\u001b[0;34m\u001b[0m\u001b[0;34m\u001b[0m\u001b[0m\n\u001b[1;32m    318\u001b[0m         \u001b[0;32mwhile\u001b[0m \u001b[0;32mTrue\u001b[0m\u001b[0;34m:\u001b[0m\u001b[0;34m\u001b[0m\u001b[0;34m\u001b[0m\u001b[0m\n\u001b[0;32m--> 319\u001b[0;31m             \u001b[0mversion\u001b[0m\u001b[0;34m,\u001b[0m \u001b[0mstatus\u001b[0m\u001b[0;34m,\u001b[0m \u001b[0mreason\u001b[0m \u001b[0;34m=\u001b[0m \u001b[0mself\u001b[0m\u001b[0;34m.\u001b[0m\u001b[0m_read_status\u001b[0m\u001b[0;34m(\u001b[0m\u001b[0;34m)\u001b[0m\u001b[0;34m\u001b[0m\u001b[0;34m\u001b[0m\u001b[0m\n\u001b[0m\u001b[1;32m    320\u001b[0m             \u001b[0;32mif\u001b[0m \u001b[0mstatus\u001b[0m \u001b[0;34m!=\u001b[0m \u001b[0mCONTINUE\u001b[0m\u001b[0;34m:\u001b[0m\u001b[0;34m\u001b[0m\u001b[0;34m\u001b[0m\u001b[0m\n\u001b[1;32m    321\u001b[0m                 \u001b[0;32mbreak\u001b[0m\u001b[0;34m\u001b[0m\u001b[0;34m\u001b[0m\u001b[0m\n",
      "\u001b[0;32m~/anaconda3/envs/mlenv/lib/python3.7/http/client.py\u001b[0m in \u001b[0;36m_read_status\u001b[0;34m(self)\u001b[0m\n\u001b[1;32m    278\u001b[0m \u001b[0;34m\u001b[0m\u001b[0m\n\u001b[1;32m    279\u001b[0m     \u001b[0;32mdef\u001b[0m \u001b[0m_read_status\u001b[0m\u001b[0;34m(\u001b[0m\u001b[0mself\u001b[0m\u001b[0;34m)\u001b[0m\u001b[0;34m:\u001b[0m\u001b[0;34m\u001b[0m\u001b[0;34m\u001b[0m\u001b[0m\n\u001b[0;32m--> 280\u001b[0;31m         \u001b[0mline\u001b[0m \u001b[0;34m=\u001b[0m \u001b[0mstr\u001b[0m\u001b[0;34m(\u001b[0m\u001b[0mself\u001b[0m\u001b[0;34m.\u001b[0m\u001b[0mfp\u001b[0m\u001b[0;34m.\u001b[0m\u001b[0mreadline\u001b[0m\u001b[0;34m(\u001b[0m\u001b[0m_MAXLINE\u001b[0m \u001b[0;34m+\u001b[0m \u001b[0;36m1\u001b[0m\u001b[0;34m)\u001b[0m\u001b[0;34m,\u001b[0m \u001b[0;34m\"iso-8859-1\"\u001b[0m\u001b[0;34m)\u001b[0m\u001b[0;34m\u001b[0m\u001b[0;34m\u001b[0m\u001b[0m\n\u001b[0m\u001b[1;32m    281\u001b[0m         \u001b[0;32mif\u001b[0m \u001b[0mlen\u001b[0m\u001b[0;34m(\u001b[0m\u001b[0mline\u001b[0m\u001b[0;34m)\u001b[0m \u001b[0;34m>\u001b[0m \u001b[0m_MAXLINE\u001b[0m\u001b[0;34m:\u001b[0m\u001b[0;34m\u001b[0m\u001b[0;34m\u001b[0m\u001b[0m\n\u001b[1;32m    282\u001b[0m             \u001b[0;32mraise\u001b[0m \u001b[0mLineTooLong\u001b[0m\u001b[0;34m(\u001b[0m\u001b[0;34m\"status line\"\u001b[0m\u001b[0;34m)\u001b[0m\u001b[0;34m\u001b[0m\u001b[0;34m\u001b[0m\u001b[0m\n",
      "\u001b[0;32m~/anaconda3/envs/mlenv/lib/python3.7/socket.py\u001b[0m in \u001b[0;36mreadinto\u001b[0;34m(self, b)\u001b[0m\n\u001b[1;32m    587\u001b[0m         \u001b[0;32mwhile\u001b[0m \u001b[0;32mTrue\u001b[0m\u001b[0;34m:\u001b[0m\u001b[0;34m\u001b[0m\u001b[0;34m\u001b[0m\u001b[0m\n\u001b[1;32m    588\u001b[0m             \u001b[0;32mtry\u001b[0m\u001b[0;34m:\u001b[0m\u001b[0;34m\u001b[0m\u001b[0;34m\u001b[0m\u001b[0m\n\u001b[0;32m--> 589\u001b[0;31m                 \u001b[0;32mreturn\u001b[0m \u001b[0mself\u001b[0m\u001b[0;34m.\u001b[0m\u001b[0m_sock\u001b[0m\u001b[0;34m.\u001b[0m\u001b[0mrecv_into\u001b[0m\u001b[0;34m(\u001b[0m\u001b[0mb\u001b[0m\u001b[0;34m)\u001b[0m\u001b[0;34m\u001b[0m\u001b[0;34m\u001b[0m\u001b[0m\n\u001b[0m\u001b[1;32m    590\u001b[0m             \u001b[0;32mexcept\u001b[0m \u001b[0mtimeout\u001b[0m\u001b[0;34m:\u001b[0m\u001b[0;34m\u001b[0m\u001b[0;34m\u001b[0m\u001b[0m\n\u001b[1;32m    591\u001b[0m                 \u001b[0mself\u001b[0m\u001b[0;34m.\u001b[0m\u001b[0m_timeout_occurred\u001b[0m \u001b[0;34m=\u001b[0m \u001b[0;32mTrue\u001b[0m\u001b[0;34m\u001b[0m\u001b[0;34m\u001b[0m\u001b[0m\n",
      "\u001b[0;32m~/anaconda3/envs/mlenv/lib/python3.7/ssl.py\u001b[0m in \u001b[0;36mrecv_into\u001b[0;34m(self, buffer, nbytes, flags)\u001b[0m\n\u001b[1;32m   1069\u001b[0m                   \u001b[0;34m\"non-zero flags not allowed in calls to recv_into() on %s\"\u001b[0m \u001b[0;34m%\u001b[0m\u001b[0;34m\u001b[0m\u001b[0;34m\u001b[0m\u001b[0m\n\u001b[1;32m   1070\u001b[0m                   self.__class__)\n\u001b[0;32m-> 1071\u001b[0;31m             \u001b[0;32mreturn\u001b[0m \u001b[0mself\u001b[0m\u001b[0;34m.\u001b[0m\u001b[0mread\u001b[0m\u001b[0;34m(\u001b[0m\u001b[0mnbytes\u001b[0m\u001b[0;34m,\u001b[0m \u001b[0mbuffer\u001b[0m\u001b[0;34m)\u001b[0m\u001b[0;34m\u001b[0m\u001b[0;34m\u001b[0m\u001b[0m\n\u001b[0m\u001b[1;32m   1072\u001b[0m         \u001b[0;32melse\u001b[0m\u001b[0;34m:\u001b[0m\u001b[0;34m\u001b[0m\u001b[0;34m\u001b[0m\u001b[0m\n\u001b[1;32m   1073\u001b[0m             \u001b[0;32mreturn\u001b[0m \u001b[0msuper\u001b[0m\u001b[0;34m(\u001b[0m\u001b[0;34m)\u001b[0m\u001b[0;34m.\u001b[0m\u001b[0mrecv_into\u001b[0m\u001b[0;34m(\u001b[0m\u001b[0mbuffer\u001b[0m\u001b[0;34m,\u001b[0m \u001b[0mnbytes\u001b[0m\u001b[0;34m,\u001b[0m \u001b[0mflags\u001b[0m\u001b[0;34m)\u001b[0m\u001b[0;34m\u001b[0m\u001b[0;34m\u001b[0m\u001b[0m\n",
      "\u001b[0;32m~/anaconda3/envs/mlenv/lib/python3.7/ssl.py\u001b[0m in \u001b[0;36mread\u001b[0;34m(self, len, buffer)\u001b[0m\n\u001b[1;32m    927\u001b[0m         \u001b[0;32mtry\u001b[0m\u001b[0;34m:\u001b[0m\u001b[0;34m\u001b[0m\u001b[0;34m\u001b[0m\u001b[0m\n\u001b[1;32m    928\u001b[0m             \u001b[0;32mif\u001b[0m \u001b[0mbuffer\u001b[0m \u001b[0;32mis\u001b[0m \u001b[0;32mnot\u001b[0m \u001b[0;32mNone\u001b[0m\u001b[0;34m:\u001b[0m\u001b[0;34m\u001b[0m\u001b[0;34m\u001b[0m\u001b[0m\n\u001b[0;32m--> 929\u001b[0;31m                 \u001b[0;32mreturn\u001b[0m \u001b[0mself\u001b[0m\u001b[0;34m.\u001b[0m\u001b[0m_sslobj\u001b[0m\u001b[0;34m.\u001b[0m\u001b[0mread\u001b[0m\u001b[0;34m(\u001b[0m\u001b[0mlen\u001b[0m\u001b[0;34m,\u001b[0m \u001b[0mbuffer\u001b[0m\u001b[0;34m)\u001b[0m\u001b[0;34m\u001b[0m\u001b[0;34m\u001b[0m\u001b[0m\n\u001b[0m\u001b[1;32m    930\u001b[0m             \u001b[0;32melse\u001b[0m\u001b[0;34m:\u001b[0m\u001b[0;34m\u001b[0m\u001b[0;34m\u001b[0m\u001b[0m\n\u001b[1;32m    931\u001b[0m                 \u001b[0;32mreturn\u001b[0m \u001b[0mself\u001b[0m\u001b[0;34m.\u001b[0m\u001b[0m_sslobj\u001b[0m\u001b[0;34m.\u001b[0m\u001b[0mread\u001b[0m\u001b[0;34m(\u001b[0m\u001b[0mlen\u001b[0m\u001b[0;34m)\u001b[0m\u001b[0;34m\u001b[0m\u001b[0;34m\u001b[0m\u001b[0m\n",
      "\u001b[0;31mKeyboardInterrupt\u001b[0m: "
     ]
    }
   ],
   "source": [
    "\n",
    "# Create a new 'Text' column to store the scraped text\n",
    "congress_115_text_df['Text'] = \"\"\n",
    "\n",
    "# Create a list to store the index of rows that do not run in the loop\n",
    "error_index = []\n",
    "\n",
    "# Use tqdm to display a progress bar\n",
    "for index, row in tqdm(congress_115_text_df.iterrows(), total=len(congress_115_text_df), desc='Processing Rows'):\n",
    "\n",
    "    url = row['TextUrl']\n",
    "\n",
    "    try:\n",
    "        result = requests.get(url)\n",
    "        result.raise_for_status()  # Raise an exception for bad status codes (4xx or 5xx)\n",
    "\n",
    "        content = result.text\n",
    "        soup = BeautifulSoup(content, 'lxml')\n",
    "        soup_string = str(soup)\n",
    "\n",
    "        # Store the scraped text in the 'Text' column\n",
    "        congress_115_text_df.at[index, 'Text'] = soup_string\n",
    "\n",
    "    except requests.exceptions.RequestException as e:\n",
    "        error_index.append(index)\n",
    "        \n",
    "    time.sleep(2) \n",
    "\n",
    "# Display the indices of rows with errors\n",
    "print(\"Rows with errors:\", error_index)\n"
   ]
  },
  {
   "cell_type": "code",
   "execution_count": 23,
   "id": "9896c592-00bb-4b3c-8265-6d7382b5dcb8",
   "metadata": {},
   "outputs": [
    {
     "name": "stderr",
     "output_type": "stream",
     "text": [
      "Processing Rows: 100%|███████████████| 2255/2255 [1:44:44<00:00,  2.79s/it]"
     ]
    },
    {
     "name": "stdout",
     "output_type": "stream",
     "text": [
      "Rows with errors: [1, 49, 79, 83, 118, 140, 158, 181, 198, 281, 320, 397, 441, 452, 475, 500, 536, 551, 698, 713, 734, 753, 768, 769, 874, 888, 937, 949, 961, 973, 1043, 1077, 1099, 1124, 1179, 1239, 1284, 1310, 1333, 1337, 1342, 1401, 1458, 1493, 1560, 1632, 1722, 1791, 1813, 1839, 1857, 1885, 1923, 1953, 2060, 2069, 2125, 2151, 2181, 2205, 2206]\n"
     ]
    },
    {
     "name": "stderr",
     "output_type": "stream",
     "text": [
      "\n"
     ]
    }
   ],
   "source": [
    "\n",
    "# Create a new 'Text' column to store the scraped text\n",
    "congress_115_text_df['Text'] = \"\"\n",
    "\n",
    "# Create a list to store the index of rows that do not run in the loop\n",
    "error_index = []\n",
    "\n",
    "# Use tqdm to display a progress bar\n",
    "for index, row in tqdm(congress_115_text_df.iterrows(), total=len(congress_115_text_df), desc='Processing Rows'):\n",
    "\n",
    "    url = row['TextUrl']\n",
    "\n",
    "    try:\n",
    "        # Set a timeout of 5 seconds\n",
    "        result = requests.get(url, timeout=5)\n",
    "        result.raise_for_status()  # Raise an exception for bad status codes (4xx or 5xx)\n",
    "\n",
    "        content = result.text\n",
    "        soup = BeautifulSoup(content, 'lxml')\n",
    "        soup_string = str(soup)\n",
    "\n",
    "        # Store the scraped text in the 'Text' column\n",
    "        congress_115_text_df.at[index, 'Text'] = soup_string\n",
    "\n",
    "    except requests.exceptions.RequestException as e:\n",
    "        error_index.append(index)\n",
    "\n",
    "    except requests.exceptions.Timeout as e:\n",
    "        # Handle timeout exception\n",
    "        print(f\"Timeout for row {index}: {e}\")\n",
    "        error_index.append(index)\n",
    "\n",
    "    time.sleep(2)  # Adjust the sleep time as needed\n",
    "\n",
    "# Display the indices of rows with errors\n",
    "print(\"Rows with errors:\", error_index)\n"
   ]
  },
  {
   "cell_type": "code",
   "execution_count": 24,
   "id": "e6dcf17f-26f2-4510-966a-572ec78b15f7",
   "metadata": {},
   "outputs": [
    {
     "data": {
      "text/plain": [
       "61"
      ]
     },
     "execution_count": 24,
     "metadata": {},
     "output_type": "execute_result"
    }
   ],
   "source": [
    "len(error_index)"
   ]
  },
  {
   "cell_type": "code",
   "execution_count": 25,
   "id": "810317f7-c7ea-421c-aba9-04d218873656",
   "metadata": {
    "tags": []
   },
   "outputs": [
    {
     "name": "stdout",
     "output_type": "stream",
     "text": [
      "Rows with errors: [83, 949, 1953]\n"
     ]
    }
   ],
   "source": [
    "# Create a new error list to store the index of rows that do not run in the second loop\n",
    "error_index_1 = []\n",
    "\n",
    "# Use tqdm to display a progress bar\n",
    "for i in error_index:\n",
    "\n",
    "    # Access the corresponding row in the DataFrame\n",
    "    error_row = congress_115_text_df.iloc[i]\n",
    "    \n",
    "    url = error_row['TextUrl']\n",
    "\n",
    "    try:\n",
    "        # Set a timeout of 5 seconds\n",
    "        result = requests.get(url, timeout=5)\n",
    "        result.raise_for_status()  # Raise an exception for bad status codes (4xx or 5xx)\n",
    "\n",
    "        content = result.text\n",
    "        soup = BeautifulSoup(content, 'lxml')\n",
    "        soup_string = str(soup)\n",
    "\n",
    "        # Store the scraped text in the 'Text' column\n",
    "        congress_115_text_df.at[i, 'Text'] = soup_string\n",
    "\n",
    "    except requests.exceptions.RequestException as e:\n",
    "        error_index_1.append(i)\n",
    "\n",
    "    except requests.exceptions.Timeout as e:\n",
    "        # Handle timeout exception\n",
    "        print(f\"Timeout for row {i}: {e}\")\n",
    "        error_index_1.append(i)\n",
    "\n",
    "    time.sleep(2)  # Adjust the sleep time as needed\n",
    "\n",
    "# Display the indices of rows with errors\n",
    "print(\"Rows with errors:\", error_index_1)"
   ]
  },
  {
   "cell_type": "code",
   "execution_count": 26,
   "id": "409eeadb-590d-4427-9283-8178de9aacce",
   "metadata": {},
   "outputs": [
    {
     "name": "stdout",
     "output_type": "stream",
     "text": [
      "Rows with errors: []\n"
     ]
    }
   ],
   "source": [
    "# Create a new error list to store the index of rows that do not run in the second loop\n",
    "error_index_2 = []\n",
    "\n",
    "# Use tqdm to display a progress bar\n",
    "for i in error_index_1:\n",
    "\n",
    "    # Access the corresponding row in the DataFrame\n",
    "    error_row = congress_115_text_df.iloc[i]\n",
    "    \n",
    "    url = error_row['TextUrl']\n",
    "\n",
    "    try:\n",
    "        # Set a timeout of 5 seconds\n",
    "        result = requests.get(url, timeout=5)\n",
    "        result.raise_for_status()  # Raise an exception for bad status codes (4xx or 5xx)\n",
    "\n",
    "        content = result.text\n",
    "        soup = BeautifulSoup(content, 'lxml')\n",
    "        soup_string = str(soup)\n",
    "\n",
    "        # Store the scraped text in the 'Text' column\n",
    "        congress_115_text_df.at[i, 'Text'] = soup_string\n",
    "\n",
    "    except requests.exceptions.RequestException as e:\n",
    "        error_index_2.append(i)\n",
    "\n",
    "    except requests.exceptions.Timeout as e:\n",
    "        # Handle timeout exception\n",
    "        print(f\"Timeout for row {i}: {e}\")\n",
    "        error_index_2.append(i)\n",
    "\n",
    "    time.sleep(2)  # Adjust the sleep time as needed\n",
    "\n",
    "# Display the indices of rows with errors\n",
    "print(\"Rows with errors:\", error_index_2)"
   ]
  },
  {
   "cell_type": "code",
   "execution_count": 42,
   "id": "215943e2-602e-49d3-8c4a-3d4519fb795c",
   "metadata": {},
   "outputs": [
    {
     "data": {
      "text/plain": [
       "1854"
      ]
     },
     "execution_count": 42,
     "metadata": {},
     "output_type": "execute_result"
    }
   ],
   "source": [
    "congress_115_text_df['BillNumber'][1600]"
   ]
  },
  {
   "cell_type": "code",
   "execution_count": 43,
   "id": "a93f4a6d-f1bb-4bd3-8bcd-988a3fc3bcd5",
   "metadata": {},
   "outputs": [
    {
     "data": {
      "text/plain": [
       "'Prescription Drug Monitoring Act of 2017\\n\\nThis bill requires a state that receives grant funds under the prescription drug monitoring program (PDMP) or the controlled substance monitoring program to comply with specified requirements, including a requirement to share its PDMP data with other states. The Department of Justice (DOJ) or Department of Health and Human Services may withhold grant funds from a state that fails to comply.\\n\\n To facilitate data sharing among states, the bill directs DOJ to award a grant under the Comprehensive Opioid Abuse Grant Program to establish and maintain a data-sharing hub.'"
      ]
     },
     "execution_count": 43,
     "metadata": {},
     "output_type": "execute_result"
    }
   ],
   "source": [
    "congress_115_text_df['Summary'][1600]"
   ]
  },
  {
   "cell_type": "code",
   "execution_count": 44,
   "id": "c5d2d07c-790c-4ecb-9048-5492c26800f2",
   "metadata": {},
   "outputs": [
    {
     "data": {
      "text/plain": [
       "\"<html><body><pre>\\n[Congressional Bills 115th Congress]\\n[From the U.S. Government Publishing Office]\\n[H.R. 1854 Introduced in House (IH)]\\n\\n&lt;DOC&gt;\\n\\n\\n\\n\\n\\n\\n115th CONGRESS\\n  1st Session\\n                                H. R. 1854\\n\\n  To require the use of prescription drug monitoring programs and to \\n              facilitate information sharing among States.\\n\\n\\n_______________________________________________________________________\\n\\n\\n                    IN THE HOUSE OF REPRESENTATIVES\\n\\n                             April 3, 2017\\n\\n    Mr. Jenkins of West Virginia (for himself and Mr. Ryan of Ohio) \\n introduced the following bill; which was referred to the Committee on \\nEnergy and Commerce, and in addition to the Committee on the Judiciary, \\nfor a period to be subsequently determined by the Speaker, in each case \\nfor consideration of such provisions as fall within the jurisdiction of \\n                        the committee concerned\\n\\n_______________________________________________________________________\\n\\n                                 A BILL\\n\\n\\n \\n  To require the use of prescription drug monitoring programs and to \\n              facilitate information sharing among States.\\n\\n    Be it enacted by the Senate and House of Representatives of the \\nUnited States of America in Congress assembled,\\n\\nSECTION 1. SHORT TITLE.\\n\\n    This Act may be cited as the ``Prescription Drug Monitoring Act of \\n2017''.\\n\\nSEC. 2. DEFINITIONS.\\n\\n    In this Act:\\n            (1) Controlled substance.--The term ``controlled \\n        substance'' has the meaning given the term in section 102 of \\n        the Controlled Substances Act (21 U.S.C. 802).\\n            (2) Covered state.--The term ``covered State'' means a \\n        State that receives funding under the Harold Rogers \\n        Prescription Drug Monitoring Program established under the \\n        Departments of Commerce, Justice, and State, the Judiciary, and \\n        Related Agencies Appropriations Act, 2002 (Public Law 107-77; \\n        115 Stat. 748) or the controlled substance monitoring program \\n        under section 399O of the Public Health Service Act (42 U.S.C. \\n        280g-3).\\n            (3) Dispenser.--The term ``dispenser''--\\n                    (A) means person licensed or otherwise authorized \\n                by a State to deliver a prescription drug product to a \\n                patient or an agent of the patient; and\\n                    (B) does not include a person involved in oversight \\n                or payment for prescription drugs.\\n            (4) PDMP.--The term ``PDMP'' means a prescription drug \\n        monitoring program.\\n            (5) Practitioner.--The term ``practitioner'' means a \\n        practitioner registered under section 303(f) of the Controlled \\n        Substances Act (21 U.S.C. 823(f)) to prescribe, administer, or \\n        dispense controlled substances.\\n            (6) State.--The term ``State'' means each of the several \\n        States and the District of Columbia.\\n\\nSEC. 3. PRESCRIPTION DRUG MONITORING PROGRAM REQUIREMENTS.\\n\\n    (a) In General.--Beginning 2 years after the date of enactment of \\nthis Act, each covered State shall require--\\n            (1) each prescribing practitioner within the covered State \\n        or their designee, who shall be licensed or registered \\n        healthcare professionals or other employees who report directly \\n        to the practitioner, to consult the PDMP of the covered State \\n        before initiating treatment with a prescription for a \\n        controlled substance listed in schedule II, III, or IV of \\n        section 202(c) of the Controlled Substances Act (21 U.S.C. \\n        812(c)), and every 3 months thereafter as long as the treatment \\n        continues;\\n            (2) the PDMP of the covered State to provide proactive \\n        notification to a practitioner when patterns indicative of \\n        controlled substance misuse, including opioid misuse, are \\n        detected;\\n            (3) each dispenser within the covered State to report each \\n        prescription for a controlled substance dispensed by the \\n        dispenser to the PDMP not later than 24 hours after the \\n        controlled substance is dispensed to the patient;\\n            (4) that the PDMP make available a quarterly de-identified \\n        data set and an annual report for public and private use, which \\n        shall, at a minimum, meet requirements established by the \\n        Attorney General, in coordination with the Secretary of Health \\n        and Human Services; and\\n            (5) that the data contained in the PDMP of the covered \\n        State is made available to other States.\\n    (b) Noncompliance.--If a covered State fails to comply with \\nsubsection (a), the Attorney General or the Secretary of Health and \\nHuman Services, as appropriate, may withhold grant funds from being \\nawarded to the covered State under the Harold Rogers Prescription Drug \\nMonitoring Program established under the Departments of Commerce, \\nJustice, and State, the Judiciary, and Related Agencies Appropriations \\nAct, 2002 (Public Law 107-77; 115 Stat. 748) or the controlled \\nsubstance monitoring program under section 399O of the Public Health \\nService Act (42 U.S.C. 280g-3).\\n    (c) Data-Sharing Single Technology Solution.--\\n            (1) In general.--For the purpose of assisting States in \\n        complying with subsection (a)(5), the Attorney General, in \\n        coordination with the Secretary of Health and Human Services, \\n        acting through the Comprehensive Opioid Abuse Grant Program \\n        established under section 3021 of title I of the Omnibus Crime \\n        Control and Safe Streets Act of 1968 (42 U.S.C. 3797ff), shall \\n        award, on a competitive basis, a grant to an eligible entity to \\n        establish and maintain an inter-State data-sharing single hub \\n        to facilitate the sharing of PDMP data among States and the \\n        accessing of such data by practitioners.\\n            (2) Requirements.--The data-sharing single hub established \\n        under paragraph (1)--\\n                    (A) shall--\\n                            (i) allow States to retain ownership of the \\n                        data submitted by the States;\\n                            (ii) provide a source of de-identified data \\n                        that can be used for statistical, research, or \\n                        educational purposes;\\n                            (iii) allow State authorized users to \\n                        access data from a PDMP of a covered State \\n                        without requiring a user fee; and\\n                            (iv) conform with the standards of the \\n                        Prescription Monitoring Information Exchange; \\n                        and\\n                    (B) may not--\\n                            (i) distribute, in whole or in part, any \\n                        PDMP data without the express written consent \\n                        of the PDMP State authority; and\\n                            (ii) limit, in whole or in part, \\n                        distribution of PDMP data as approved by the \\n                        PDMP State authority.\\n                                 &lt;all&gt;\\n</pre></body></html>\\n\""
      ]
     },
     "execution_count": 44,
     "metadata": {},
     "output_type": "execute_result"
    }
   ],
   "source": [
    "congress_115_text_df['Text'][1600]"
   ]
  },
  {
   "cell_type": "code",
   "execution_count": 45,
   "id": "b91558db-8503-40ef-92bf-0dc4748922f8",
   "metadata": {},
   "outputs": [],
   "source": [
    "congress_115_text_df.to_csv('congress_115_text.csv', index=False)"
   ]
  },
  {
   "cell_type": "code",
   "execution_count": null,
   "id": "ae7d0b3c-e0e2-4fc1-81ac-a62d27af01b3",
   "metadata": {},
   "outputs": [],
   "source": []
  }
 ],
 "metadata": {
  "kernelspec": {
   "display_name": "Python 3 (ipykernel)",
   "language": "python",
   "name": "python3"
  },
  "language_info": {
   "codemirror_mode": {
    "name": "ipython",
    "version": 3
   },
   "file_extension": ".py",
   "mimetype": "text/x-python",
   "name": "python",
   "nbconvert_exporter": "python",
   "pygments_lexer": "ipython3",
   "version": "3.7.13"
  }
 },
 "nbformat": 4,
 "nbformat_minor": 5
}
