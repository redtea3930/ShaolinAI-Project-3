{
 "cells": [
  {
   "cell_type": "markdown",
   "id": "3d90cd09-3e58-4a18-92fa-575e42c2c91c",
   "metadata": {},
   "source": [
    "## use congress.gov api to get texts of enrolled bills?"
   ]
  },
  {
   "cell_type": "code",
   "execution_count": 1,
   "id": "8c0eebb2-6328-444a-9b62-00282044789e",
   "metadata": {},
   "outputs": [],
   "source": [
    "# manually gather list of numbers of endorsed Hour Resoultions from govinfo.gov 113th-118th congress\n",
    "# use for loop to enter those HR numbers in query url for api call\n",
    "# from json return gather most recent (first listed) link:\n",
    "#     json_data = texts_json['textVersions'][0]['formats'][0]['url']\n",
    "# scrape text from link"
   ]
  },
  {
   "cell_type": "code",
   "execution_count": 5,
   "id": "49d32fa6-b551-46bb-ad5b-eb901750ae77",
   "metadata": {},
   "outputs": [],
   "source": [
    "import requests\n",
    "from api_key import congress_api_key"
   ]
  },
  {
   "cell_type": "code",
   "execution_count": 6,
   "id": "4c75b597-05a5-4408-b53d-0a6f6ff211bb",
   "metadata": {},
   "outputs": [
    {
     "data": {
      "text/plain": [
       "{'pagination': {'count': 6},\n",
       " 'request': {'billNumber': '1117',\n",
       "  'billType': 'hr',\n",
       "  'billUrl': 'https://api.congress.gov/v3/bill/115/hr/1117?format=json',\n",
       "  'congress': '115',\n",
       "  'contentType': 'application/json',\n",
       "  'format': 'json'},\n",
       " 'textVersions': [{'date': None,\n",
       "   'formats': [{'type': 'Formatted Text',\n",
       "     'url': 'https://www.congress.gov/115/bills/hr1117/BILLS-115hr1117enr.htm'},\n",
       "    {'type': 'PDF',\n",
       "     'url': 'https://www.congress.gov/115/bills/hr1117/BILLS-115hr1117enr.pdf'},\n",
       "    {'type': 'Formatted XML',\n",
       "     'url': 'https://www.congress.gov/115/bills/hr1117/BILLS-115hr1117enr.xml'}],\n",
       "   'type': 'Enrolled Bill'},\n",
       "  {'date': '2017-09-18T04:00:00Z',\n",
       "   'formats': [{'type': 'Formatted Text',\n",
       "     'url': 'https://www.congress.gov/115/bills/hr1117/BILLS-115hr1117rs.htm'},\n",
       "    {'type': 'PDF',\n",
       "     'url': 'https://www.congress.gov/115/bills/hr1117/BILLS-115hr1117rs.pdf'},\n",
       "    {'type': 'Formatted XML',\n",
       "     'url': 'https://www.congress.gov/115/bills/hr1117/BILLS-115hr1117rs.xml'}],\n",
       "   'type': 'Reported to Senate'},\n",
       "  {'date': '2017-03-28T04:00:00Z',\n",
       "   'formats': [{'type': 'Formatted Text',\n",
       "     'url': 'https://www.congress.gov/115/bills/hr1117/BILLS-115hr1117rfs.htm'},\n",
       "    {'type': 'PDF',\n",
       "     'url': 'https://www.congress.gov/115/bills/hr1117/BILLS-115hr1117rfs.pdf'},\n",
       "    {'type': 'Formatted XML',\n",
       "     'url': 'https://www.congress.gov/115/bills/hr1117/BILLS-115hr1117rfs.xml'}],\n",
       "   'type': 'Referred in Senate'},\n",
       "  {'date': '2017-03-27T04:00:00Z',\n",
       "   'formats': [{'type': 'Formatted Text',\n",
       "     'url': 'https://www.congress.gov/115/bills/hr1117/BILLS-115hr1117eh.htm'},\n",
       "    {'type': 'PDF',\n",
       "     'url': 'https://www.congress.gov/115/bills/hr1117/BILLS-115hr1117eh.pdf'},\n",
       "    {'type': 'Formatted XML',\n",
       "     'url': 'https://www.congress.gov/115/bills/hr1117/BILLS-115hr1117eh.xml'}],\n",
       "   'type': 'Engrossed in House'},\n",
       "  {'date': '2017-03-09T05:00:00Z',\n",
       "   'formats': [{'type': 'Formatted Text',\n",
       "     'url': 'https://www.congress.gov/115/bills/hr1117/BILLS-115hr1117rh.htm'},\n",
       "    {'type': 'PDF',\n",
       "     'url': 'https://www.congress.gov/115/bills/hr1117/BILLS-115hr1117rh.pdf'},\n",
       "    {'type': 'Formatted XML',\n",
       "     'url': 'https://www.congress.gov/115/bills/hr1117/BILLS-115hr1117rh.xml'}],\n",
       "   'type': 'Reported in House'},\n",
       "  {'date': '2017-02-16T05:00:00Z',\n",
       "   'formats': [{'type': 'Formatted Text',\n",
       "     'url': 'https://www.congress.gov/115/bills/hr1117/BILLS-115hr1117ih.htm'},\n",
       "    {'type': 'PDF',\n",
       "     'url': 'https://www.congress.gov/115/bills/hr1117/BILLS-115hr1117ih.pdf'},\n",
       "    {'type': 'Formatted XML',\n",
       "     'url': 'https://www.congress.gov/115/bills/hr1117/BILLS-115hr1117ih.xml'}],\n",
       "   'type': 'Introduced in House'},\n",
       "  {'date': '2017-10-19T03:59:59Z',\n",
       "   'formats': [{'type': 'PDF',\n",
       "     'url': 'https://www.congress.gov/115/plaws/publ69/PLAW-115publ69.pdf'},\n",
       "    {'type': 'Formatted Text',\n",
       "     'url': 'https://www.congress.gov/115/plaws/publ69/PLAW-115publ69.htm'},\n",
       "    {'type': 'Formatted XML',\n",
       "     'url': 'https://www.congress.gov/115/plaws/publ69/PLAW-115publ69_uslm.xml'}],\n",
       "   'type': 'Public Law'}]}"
      ]
     },
     "execution_count": 6,
     "metadata": {},
     "output_type": "execute_result"
    }
   ],
   "source": [
    "# Query to return text versions of specific bill\n",
    "#115th Congress, First session\n",
    "# 1st endorsed bill: 1117\n",
    "bill_no = \"1117\"\n",
    "query_url = f\"https://api.congress.gov/v3/bill/115/hr/{bill_no}/text?api_key={congress_api_key}\"\n",
    "\n",
    "texts_response = requests.get(query_url)\n",
    "texts_json = texts_response.json()\n",
    "texts_json"
   ]
  },
  {
   "cell_type": "code",
   "execution_count": null,
   "id": "2b7b79fb-bfe1-4d68-a8ea-5cbf2440a9a6",
   "metadata": {},
   "outputs": [],
   "source": []
  },
  {
   "cell_type": "code",
   "execution_count": 8,
   "id": "905c983c-9ba4-4c1d-921b-c46ecb46636b",
   "metadata": {},
   "outputs": [
    {
     "data": {
      "text/plain": [
       "'https://www.congress.gov/115/bills/hr1117/BILLS-115hr1117enr.htm'"
      ]
     },
     "execution_count": 8,
     "metadata": {},
     "output_type": "execute_result"
    }
   ],
   "source": [
    "# return url of formatted text of endorsed ie final, most recent version\n",
    "json_data = texts_json['textVersions'][0]['formats'][0]['url']\n",
    "json_data"
   ]
  },
  {
   "cell_type": "code",
   "execution_count": null,
   "id": "1a068f0f-4997-4de7-8e8b-8b0c8fcd1d34",
   "metadata": {},
   "outputs": [],
   "source": [
    "# list of endorsed bills from 1st session of "
   ]
  }
 ],
 "metadata": {
  "kernelspec": {
   "display_name": "Python 3 (ipykernel)",
   "language": "python",
   "name": "python3"
  },
  "language_info": {
   "codemirror_mode": {
    "name": "ipython",
    "version": 3
   },
   "file_extension": ".py",
   "mimetype": "text/x-python",
   "name": "python",
   "nbconvert_exporter": "python",
   "pygments_lexer": "ipython3",
   "version": "3.7.13"
  }
 },
 "nbformat": 4,
 "nbformat_minor": 5
}
